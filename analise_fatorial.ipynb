{
  "nbformat": 4,
  "nbformat_minor": 0,
  "metadata": {
    "colab": {
      "name": "analise_fatorial.ipynb",
      "provenance": [],
      "collapsed_sections": [],
      "toc_visible": true,
      "authorship_tag": "ABX9TyO5g9p/lqbk8H4WAWPZiTyg"
    },
    "kernelspec": {
      "name": "python3",
      "display_name": "Python 3"
    }
  },
  "cells": [
    {
      "cell_type": "code",
      "metadata": {
        "id": "YKW9CbE2d7d4",
        "colab_type": "code",
        "colab": {
          "base_uri": "https://localhost:8080/",
          "height": 51
        },
        "outputId": "b7bb3cc2-2a77-4f86-b2c0-2c24f67a87e6"
      },
      "source": [
        "from google.colab import drive\n",
        "drive.mount('/gdrive')\n",
        "%cd \"/gdrive/My Drive/Hackatons/NASA Space Apps 2020\""
      ],
      "execution_count": 35,
      "outputs": [
        {
          "output_type": "stream",
          "text": [
            "Drive already mounted at /gdrive; to attempt to forcibly remount, call drive.mount(\"/gdrive\", force_remount=True).\n",
            "/gdrive/.shortcut-targets-by-id/148cbL0D25RHhLY_77tnnCNRdM-ul_EOK/NASA Space Apps 2020\n"
          ],
          "name": "stdout"
        }
      ]
    },
    {
      "cell_type": "markdown",
      "metadata": {
        "id": "ZbdZzJAPhNlz",
        "colab_type": "text"
      },
      "source": [
        "# NASA Space Apps 2020: COVID-19 Challenge"
      ]
    },
    {
      "cell_type": "markdown",
      "metadata": {
        "id": "qc53YZBL2Ig7",
        "colab_type": "text"
      },
      "source": [
        "##Factor Analysis\n",
        "\n",
        "Importante considerations:\n",
        "1. There are no outliers in data.\n",
        "2. Sample size should be greater than the factor.\n",
        "3. There should not be perfect multicollinearity.\n",
        "4. There should not be homoscedasticity between the variables."
      ]
    },
    {
      "cell_type": "code",
      "metadata": {
        "id": "cZW17_dratxh",
        "colab_type": "code",
        "colab": {}
      },
      "source": [
        "import os\n",
        "import pandas as pd\n",
        "import numpy as np\n",
        "import seaborn as sns\n",
        "import matplotlib.pyplot as plt\n",
        "from glob import glob\n",
        "%matplotlib inline"
      ],
      "execution_count": 0,
      "outputs": []
    },
    {
      "cell_type": "markdown",
      "metadata": {
        "id": "Ev1CgRyiifGv",
        "colab_type": "text"
      },
      "source": [
        "### Listagem de dados"
      ]
    },
    {
      "cell_type": "code",
      "metadata": {
        "id": "H7uuh-C7eOmG",
        "colab_type": "code",
        "outputId": "e8be143b-1c4d-4430-9183-971e1353156d",
        "colab": {
          "base_uri": "https://localhost:8080/",
          "height": 238
        }
      },
      "source": [
        "dados_tratados = glob(\"Data/Tratados/*.csv\")\n",
        "fnames = list(map(os.path.basename, dados_tratados))\n",
        "wlength = np.max(list(map(len,fnames)))\n",
        "dados_tratados = dict(zip(fnames, dados_tratados))\n",
        "for k,v in dados_tratados.items():\n",
        "  print((k+\":\").rjust(wlength), v)"
      ],
      "execution_count": 38,
      "outputs": [
        {
          "output_type": "stream",
          "text": [
            "                      Populacao.csv: Data/Tratados/Populacao.csv\n",
            "                            IDH.csv: Data/Tratados/IDH.csv\n",
            "                   BasicHygiene.csv: Data/Tratados/BasicHygiene.csv\n",
            "                   RedeDeEsgoto.csv: Data/Tratados/RedeDeEsgoto.csv\n",
            "                    AguaTratada.csv: Data/Tratados/AguaTratada.csv\n",
            "                 OpenDefecation.csv: Data/Tratados/OpenDefecation.csv\n",
            "                      Desastres.csv: Data/Tratados/Desastres.csv\n",
            "REAL_GDP_PER_CAPITA_CONSTANT_US$.csv: Data/Tratados/REAL_GDP_PER_CAPITA_CONSTANT_US$.csv\n",
            "                  SalarioMinimo.csv: Data/Tratados/SalarioMinimo.csv\n",
            "                        Medicos.csv: Data/Tratados/Medicos.csv\n",
            "                   HospitalBeds.csv: Data/Tratados/HospitalBeds.csv\n",
            "                    Local_x_USD.csv: Data/Tratados/Local_x_USD.csv\n",
            "                   Immunization.csv: Data/Tratados/Immunization.csv\n"
          ],
          "name": "stdout"
        }
      ]
    },
    {
      "cell_type": "markdown",
      "metadata": {
        "id": "XSarx0ip2YVN",
        "colab_type": "text"
      },
      "source": [
        "#### Number of inhabitants"
      ]
    },
    {
      "cell_type": "code",
      "metadata": {
        "id": "xXbvYiCJjNZf",
        "colab_type": "code",
        "outputId": "e370e2a2-8202-429b-b70f-ee5328fd9e2a",
        "colab": {
          "base_uri": "https://localhost:8080/",
          "height": 221
        }
      },
      "source": [
        "df_populacao = pd.read_csv(dados_tratados[\"Populacao.csv\"], index_col=0)\n",
        "df_populacao.sort_values([\"Ano\", \"País\"], ignore_index=True, inplace=True)\n",
        "print(df_populacao[\"Ano\"].unique())\n",
        "df_populacao.head()"
      ],
      "execution_count": 39,
      "outputs": [
        {
          "output_type": "stream",
          "text": [
            "[2010]\n"
          ],
          "name": "stdout"
        },
        {
          "output_type": "execute_result",
          "data": {
            "text/html": [
              "<div>\n",
              "<style scoped>\n",
              "    .dataframe tbody tr th:only-of-type {\n",
              "        vertical-align: middle;\n",
              "    }\n",
              "\n",
              "    .dataframe tbody tr th {\n",
              "        vertical-align: top;\n",
              "    }\n",
              "\n",
              "    .dataframe thead th {\n",
              "        text-align: right;\n",
              "    }\n",
              "</style>\n",
              "<table border=\"1\" class=\"dataframe\">\n",
              "  <thead>\n",
              "    <tr style=\"text-align: right;\">\n",
              "      <th></th>\n",
              "      <th>País</th>\n",
              "      <th>População</th>\n",
              "      <th>Ano</th>\n",
              "    </tr>\n",
              "  </thead>\n",
              "  <tbody>\n",
              "    <tr>\n",
              "      <th>0</th>\n",
              "      <td>ARGENTINA</td>\n",
              "      <td>4.011689e+07</td>\n",
              "      <td>2010</td>\n",
              "    </tr>\n",
              "    <tr>\n",
              "      <th>1</th>\n",
              "      <td>BOLIVIA</td>\n",
              "      <td>9.684295e+06</td>\n",
              "      <td>2010</td>\n",
              "    </tr>\n",
              "    <tr>\n",
              "      <th>2</th>\n",
              "      <td>BRASIL</td>\n",
              "      <td>1.907474e+08</td>\n",
              "      <td>2010</td>\n",
              "    </tr>\n",
              "    <tr>\n",
              "      <th>3</th>\n",
              "      <td>CHILE</td>\n",
              "      <td>1.709418e+07</td>\n",
              "      <td>2010</td>\n",
              "    </tr>\n",
              "    <tr>\n",
              "      <th>4</th>\n",
              "      <td>COLOMBIA</td>\n",
              "      <td>4.836490e+07</td>\n",
              "      <td>2010</td>\n",
              "    </tr>\n",
              "  </tbody>\n",
              "</table>\n",
              "</div>"
            ],
            "text/plain": [
              "        País     População   Ano\n",
              "0  ARGENTINA  4.011689e+07  2010\n",
              "1    BOLIVIA  9.684295e+06  2010\n",
              "2     BRASIL  1.907474e+08  2010\n",
              "3      CHILE  1.709418e+07  2010\n",
              "4   COLOMBIA  4.836490e+07  2010"
            ]
          },
          "metadata": {
            "tags": []
          },
          "execution_count": 39
        }
      ]
    },
    {
      "cell_type": "markdown",
      "metadata": {
        "id": "-EOudSCN2ho1",
        "colab_type": "text"
      },
      "source": [
        "#### Hospital beds per ?"
      ]
    },
    {
      "cell_type": "code",
      "metadata": {
        "id": "v2OiAv60sYwO",
        "colab_type": "code",
        "outputId": "174c396f-2aba-4ad9-a28f-0557633fb186",
        "colab": {
          "base_uri": "https://localhost:8080/",
          "height": 221
        }
      },
      "source": [
        "df_hospital_beds = pd.read_csv(dados_tratados[\"HospitalBeds.csv\"], index_col = 0)\n",
        "df_hospital_beds.sort_values([\"year\", \"country\"], ignore_index=True, inplace=True)\n",
        "print(np.sort(df_hospital_beds[\"year\"].unique()))\n",
        "df_hospital_beds.head()"
      ],
      "execution_count": 40,
      "outputs": [
        {
          "output_type": "stream",
          "text": [
            "[2013 2014 2015]\n"
          ],
          "name": "stdout"
        },
        {
          "output_type": "execute_result",
          "data": {
            "text/html": [
              "<div>\n",
              "<style scoped>\n",
              "    .dataframe tbody tr th:only-of-type {\n",
              "        vertical-align: middle;\n",
              "    }\n",
              "\n",
              "    .dataframe tbody tr th {\n",
              "        vertical-align: top;\n",
              "    }\n",
              "\n",
              "    .dataframe thead th {\n",
              "        text-align: right;\n",
              "    }\n",
              "</style>\n",
              "<table border=\"1\" class=\"dataframe\">\n",
              "  <thead>\n",
              "    <tr style=\"text-align: right;\">\n",
              "      <th></th>\n",
              "      <th>country</th>\n",
              "      <th>year</th>\n",
              "      <th>hospital_beds</th>\n",
              "    </tr>\n",
              "  </thead>\n",
              "  <tbody>\n",
              "    <tr>\n",
              "      <th>0</th>\n",
              "      <td>Chile</td>\n",
              "      <td>2013</td>\n",
              "      <td>2.2</td>\n",
              "    </tr>\n",
              "    <tr>\n",
              "      <th>1</th>\n",
              "      <td>Ecuador</td>\n",
              "      <td>2013</td>\n",
              "      <td>1.5</td>\n",
              "    </tr>\n",
              "    <tr>\n",
              "      <th>2</th>\n",
              "      <td>Argentina</td>\n",
              "      <td>2014</td>\n",
              "      <td>5.0</td>\n",
              "    </tr>\n",
              "    <tr>\n",
              "      <th>3</th>\n",
              "      <td>Bolivia</td>\n",
              "      <td>2014</td>\n",
              "      <td>1.1</td>\n",
              "    </tr>\n",
              "    <tr>\n",
              "      <th>4</th>\n",
              "      <td>Brazil</td>\n",
              "      <td>2014</td>\n",
              "      <td>2.2</td>\n",
              "    </tr>\n",
              "  </tbody>\n",
              "</table>\n",
              "</div>"
            ],
            "text/plain": [
              "     country  year  hospital_beds\n",
              "0      Chile  2013            2.2\n",
              "1    Ecuador  2013            1.5\n",
              "2  Argentina  2014            5.0\n",
              "3    Bolivia  2014            1.1\n",
              "4     Brazil  2014            2.2"
            ]
          },
          "metadata": {
            "tags": []
          },
          "execution_count": 40
        }
      ]
    },
    {
      "cell_type": "markdown",
      "metadata": {
        "id": "3wW7RPb925KM",
        "colab_type": "text"
      },
      "source": [
        "#### Physicians per 10,000 inhabitants"
      ]
    },
    {
      "cell_type": "code",
      "metadata": {
        "id": "k60IRSF_tlGy",
        "colab_type": "code",
        "outputId": "a8e259fc-f56e-4833-9765-b545e18728d5",
        "colab": {
          "base_uri": "https://localhost:8080/",
          "height": 272
        }
      },
      "source": [
        "df_medicos = pd.read_csv(dados_tratados[\"Medicos.csv\"], index_col = 0)\n",
        "df_medicos.sort_values([\"Period\", \"Location\"], ignore_index=True, inplace=True)\n",
        "print(df_medicos[\"Location\"].unique())\n",
        "print(df_medicos[\"Period\"].unique())\n",
        "df_medicos.head()"
      ],
      "execution_count": 41,
      "outputs": [
        {
          "output_type": "stream",
          "text": [
            "['Venezuela (Bolivarian Republic of)' 'Bolivia (Plurinational State of)'\n",
            " 'Ecuador' 'El Salvador' 'Peru' 'Argentina' 'Mexico' 'Brazil' 'Chile'\n",
            " 'Colombia']\n",
            "[2001 2016 2017 2018]\n"
          ],
          "name": "stdout"
        },
        {
          "output_type": "execute_result",
          "data": {
            "text/html": [
              "<div>\n",
              "<style scoped>\n",
              "    .dataframe tbody tr th:only-of-type {\n",
              "        vertical-align: middle;\n",
              "    }\n",
              "\n",
              "    .dataframe tbody tr th {\n",
              "        vertical-align: top;\n",
              "    }\n",
              "\n",
              "    .dataframe thead th {\n",
              "        text-align: right;\n",
              "    }\n",
              "</style>\n",
              "<table border=\"1\" class=\"dataframe\">\n",
              "  <thead>\n",
              "    <tr style=\"text-align: right;\">\n",
              "      <th></th>\n",
              "      <th>Location</th>\n",
              "      <th>Period</th>\n",
              "      <th>Indicator</th>\n",
              "      <th>First Tooltip</th>\n",
              "    </tr>\n",
              "  </thead>\n",
              "  <tbody>\n",
              "    <tr>\n",
              "      <th>0</th>\n",
              "      <td>Venezuela (Bolivarian Republic of)</td>\n",
              "      <td>2001</td>\n",
              "      <td>Medical doctors (per 10,000)</td>\n",
              "      <td>19.48</td>\n",
              "    </tr>\n",
              "    <tr>\n",
              "      <th>1</th>\n",
              "      <td>Bolivia (Plurinational State of)</td>\n",
              "      <td>2016</td>\n",
              "      <td>Medical doctors (per 10,000)</td>\n",
              "      <td>15.90</td>\n",
              "    </tr>\n",
              "    <tr>\n",
              "      <th>2</th>\n",
              "      <td>Ecuador</td>\n",
              "      <td>2016</td>\n",
              "      <td>Medical doctors (per 10,000)</td>\n",
              "      <td>20.37</td>\n",
              "    </tr>\n",
              "    <tr>\n",
              "      <th>3</th>\n",
              "      <td>El Salvador</td>\n",
              "      <td>2016</td>\n",
              "      <td>Medical doctors (per 10,000)</td>\n",
              "      <td>15.66</td>\n",
              "    </tr>\n",
              "    <tr>\n",
              "      <th>4</th>\n",
              "      <td>Peru</td>\n",
              "      <td>2016</td>\n",
              "      <td>Medical doctors (per 10,000)</td>\n",
              "      <td>13.05</td>\n",
              "    </tr>\n",
              "  </tbody>\n",
              "</table>\n",
              "</div>"
            ],
            "text/plain": [
              "                             Location  ...  First Tooltip\n",
              "0  Venezuela (Bolivarian Republic of)  ...          19.48\n",
              "1    Bolivia (Plurinational State of)  ...          15.90\n",
              "2                             Ecuador  ...          20.37\n",
              "3                         El Salvador  ...          15.66\n",
              "4                                Peru  ...          13.05\n",
              "\n",
              "[5 rows x 4 columns]"
            ]
          },
          "metadata": {
            "tags": []
          },
          "execution_count": 41
        }
      ]
    }
  ]
}