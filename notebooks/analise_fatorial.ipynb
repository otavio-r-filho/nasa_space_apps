{
  "nbformat": 4,
  "nbformat_minor": 0,
  "metadata": {
    "colab": {
      "name": "analise_fatorial.ipynb",
      "provenance": [],
      "collapsed_sections": [],
      "include_colab_link": true
    },
    "kernelspec": {
      "display_name": "Python 3.7 (ds37)",
      "language": "python",
      "name": "ds37"
    },
    "language_info": {
      "codemirror_mode": {
        "name": "ipython",
        "version": 3
      },
      "file_extension": ".py",
      "mimetype": "text/x-python",
      "name": "python",
      "nbconvert_exporter": "python",
      "pygments_lexer": "ipython3",
      "version": "3.8.2"
    }
  },
  "cells": [
    {
      "cell_type": "markdown",
      "metadata": {
        "id": "view-in-github",
        "colab_type": "text"
      },
      "source": [
        "<a href=\"https://colab.research.google.com/github/otavio-r-filho/nasa_space_apps/blob/master/notebooks/analise_fatorial.ipynb\" target=\"_parent\"><img src=\"https://colab.research.google.com/assets/colab-badge.svg\" alt=\"Open In Colab\"/></a>"
      ]
    },
    {
      "cell_type": "markdown",
      "metadata": {
        "colab_type": "text",
        "id": "ZbdZzJAPhNlz"
      },
      "source": [
        "# NASA Space Apps 2020: COVID-19 Challenge"
      ]
    },
    {
      "cell_type": "code",
      "metadata": {
        "colab_type": "code",
        "id": "cZW17_dratxh",
        "colab": {}
      },
      "source": [
        "import os\n",
        "import pandas as pd\n",
        "import numpy as np\n",
        "import seaborn as sns\n",
        "import matplotlib.pyplot as plt\n",
        "from glob import glob\n",
        "%matplotlib inline\n",
        "\n",
        "plt.style.use(\"ggplot\")\n",
        "\n",
        "# Package that we may not have\n",
        "# -----------------------------------------------\n",
        "# Factory Analyzer\n",
        "try:\n",
        "  from factor_analyzer import FactorAnalyzer\n",
        "  from factor_analyzer.factor_analyzer import calculate_bartlett_sphericity\n",
        "  from factor_analyzer.factor_analyzer import calculate_kmo\n",
        "except ModuleNotFoundError:\n",
        "  !pip install factor_analyzer\n",
        "# -----------------------------------------------"
      ],
      "execution_count": 0,
      "outputs": []
    },
    {
      "cell_type": "code",
      "metadata": {
        "id": "UiOGvu8w82JW",
        "colab_type": "code",
        "colab": {}
      },
      "source": [
        "dados_tratados = glob(\"../data/external/*.csv\")"
      ],
      "execution_count": 0,
      "outputs": []
    },
    {
      "cell_type": "code",
      "metadata": {
        "colab_type": "code",
        "id": "YKW9CbE2d7d4",
        "outputId": "847d98ea-c2e2-4785-87fe-bc0f48049ec3",
        "colab": {
          "base_uri": "https://localhost:8080/",
          "height": 51
        }
      },
      "source": [
        "# Google Colab POG\n",
        "from google.colab import drive\n",
        "drive.mount('/gdrive')\n",
        "%cd \"/gdrive/My Drive/Hackatons/NASA Space Apps 2020\"\n",
        "dados_tratados = glob(\"Data/Tratados/*.csv\")"
      ],
      "execution_count": 221,
      "outputs": [
        {
          "output_type": "stream",
          "text": [
            "Drive already mounted at /gdrive; to attempt to forcibly remount, call drive.mount(\"/gdrive\", force_remount=True).\n",
            "/gdrive/.shortcut-targets-by-id/148cbL0D25RHhLY_77tnnCNRdM-ul_EOK/NASA Space Apps 2020\n"
          ],
          "name": "stdout"
        }
      ]
    },
    {
      "cell_type": "markdown",
      "metadata": {
        "id": "NT27AoZwCbUV",
        "colab_type": "text"
      },
      "source": [
        "## Databases consolidation"
      ]
    },
    {
      "cell_type": "markdown",
      "metadata": {
        "colab_type": "text",
        "id": "Ev1CgRyiifGv"
      },
      "source": [
        "### Listing raw datasets"
      ]
    },
    {
      "cell_type": "code",
      "metadata": {
        "colab_type": "code",
        "id": "H7uuh-C7eOmG",
        "outputId": "5163eb6f-ede1-41ee-a709-71d0a57e1abf",
        "colab": {
          "base_uri": "https://localhost:8080/",
          "height": 289
        }
      },
      "source": [
        "fnames = list(map(os.path.basename, dados_tratados))\n",
        "wlength = np.max(list(map(len,fnames)))\n",
        "dados_tratados = dict(zip(fnames, dados_tratados))\n",
        "dataframes = dict()\n",
        "for k,v in dados_tratados.items():\n",
        "  print((k+\":\").rjust(wlength), v)"
      ],
      "execution_count": 222,
      "outputs": [
        {
          "output_type": "stream",
          "text": [
            "                            IDH.csv: Data/Tratados/IDH.csv\n",
            "REAL_GDP_PER_CAPITA_CONSTANT_US$.csv: Data/Tratados/REAL_GDP_PER_CAPITA_CONSTANT_US$.csv\n",
            "                   AGUA_TRATADA.csv: Data/Tratados/AGUA_TRATADA.csv\n",
            "                  BASIC_HYGIENE.csv: Data/Tratados/BASIC_HYGIENE.csv\n",
            "                      DESASTRES.csv: Data/Tratados/DESASTRES.csv\n",
            "                  HOSPITAL_BEDS.csv: Data/Tratados/HOSPITAL_BEDS.csv\n",
            "                   IMMUNIZATION.csv: Data/Tratados/IMMUNIZATION.csv\n",
            "                    LOCAL_X_USD.csv: Data/Tratados/LOCAL_X_USD.csv\n",
            "                        MEDICOS.csv: Data/Tratados/MEDICOS.csv\n",
            "                OPEN_DEFECATION.csv: Data/Tratados/OPEN_DEFECATION.csv\n",
            "                      POPULACAO.csv: Data/Tratados/POPULACAO.csv\n",
            "                 REDE_DE_ESGOTO.csv: Data/Tratados/REDE_DE_ESGOTO.csv\n",
            "                 SALARIO_MINIMO.csv: Data/Tratados/SALARIO_MINIMO.csv\n",
            "                 IMMUNIZATION_2.csv: Data/Tratados/IMMUNIZATION_2.csv\n",
            "                 IMMUNIZATION_3.csv: Data/Tratados/IMMUNIZATION_3.csv\n",
            "                  LATIN_AMERICA.csv: Data/Tratados/LATIN_AMERICA.csv\n"
          ],
          "name": "stdout"
        }
      ]
    },
    {
      "cell_type": "markdown",
      "metadata": {
        "id": "qye4v4pt9A3E",
        "colab_type": "text"
      },
      "source": [
        "#### Number of inhabitants (2010 only)"
      ]
    },
    {
      "cell_type": "code",
      "metadata": {
        "colab_type": "code",
        "id": "xXbvYiCJjNZf",
        "outputId": "0d2ae0fe-029d-4196-f44c-e7c4cb28acfe",
        "colab": {
          "base_uri": "https://localhost:8080/",
          "height": 235
        }
      },
      "source": [
        "df_populacao = pd.read_csv(dados_tratados[\"POPULACAO.csv\"])\n",
        "df_populacao = df_populacao.sort_values([\"Year\",\"Country Code\"]).drop_duplicates(subset=[\"Country Code\"], keep=\"last\")\n",
        "df_populacao = df_populacao[[\"Country Code\", \"Population\"]].set_index(\"Country Code\")\n",
        "dataframes[\"population\"] = df_populacao\n",
        "df_populacao.head()"
      ],
      "execution_count": 223,
      "outputs": [
        {
          "output_type": "execute_result",
          "data": {
            "text/html": [
              "<div>\n",
              "<style scoped>\n",
              "    .dataframe tbody tr th:only-of-type {\n",
              "        vertical-align: middle;\n",
              "    }\n",
              "\n",
              "    .dataframe tbody tr th {\n",
              "        vertical-align: top;\n",
              "    }\n",
              "\n",
              "    .dataframe thead th {\n",
              "        text-align: right;\n",
              "    }\n",
              "</style>\n",
              "<table border=\"1\" class=\"dataframe\">\n",
              "  <thead>\n",
              "    <tr style=\"text-align: right;\">\n",
              "      <th></th>\n",
              "      <th>Population</th>\n",
              "    </tr>\n",
              "    <tr>\n",
              "      <th>Country Code</th>\n",
              "      <th></th>\n",
              "    </tr>\n",
              "  </thead>\n",
              "  <tbody>\n",
              "    <tr>\n",
              "      <th>ARG</th>\n",
              "      <td>4.011689e+07</td>\n",
              "    </tr>\n",
              "    <tr>\n",
              "      <th>BOL</th>\n",
              "      <td>9.684295e+06</td>\n",
              "    </tr>\n",
              "    <tr>\n",
              "      <th>BRA</th>\n",
              "      <td>1.907474e+08</td>\n",
              "    </tr>\n",
              "    <tr>\n",
              "      <th>CHL</th>\n",
              "      <td>1.709418e+07</td>\n",
              "    </tr>\n",
              "    <tr>\n",
              "      <th>COL</th>\n",
              "      <td>4.836490e+07</td>\n",
              "    </tr>\n",
              "  </tbody>\n",
              "</table>\n",
              "</div>"
            ],
            "text/plain": [
              "                Population\n",
              "Country Code              \n",
              "ARG           4.011689e+07\n",
              "BOL           9.684295e+06\n",
              "BRA           1.907474e+08\n",
              "CHL           1.709418e+07\n",
              "COL           4.836490e+07"
            ]
          },
          "metadata": {
            "tags": []
          },
          "execution_count": 223
        }
      ]
    },
    {
      "cell_type": "markdown",
      "metadata": {
        "id": "Q1dx6lpTBh0Z",
        "colab_type": "text"
      },
      "source": [
        "#### Human Development Index"
      ]
    },
    {
      "cell_type": "code",
      "metadata": {
        "id": "YdvteqW8BqIa",
        "colab_type": "code",
        "outputId": "a5576268-58d3-4364-ca32-e3d7c34c7eee",
        "colab": {
          "base_uri": "https://localhost:8080/",
          "height": 235
        }
      },
      "source": [
        "df_hdi = pd.read_csv(dados_tratados[\"IDH.csv\"]).rename(columns = {\"IDH\": \"HDI\"})\n",
        "df_hdi = df_hdi.sort_values([\"Year\", \"Country Code\"]).drop_duplicates(subset=[\"Country Code\"], keep=\"last\")\n",
        "df_hdi = df_hdi[[\"Country Code\", \"HDI\"]].set_index(\"Country Code\")\n",
        "dataframes[\"hdi\"] = df_hdi\n",
        "df_hdi.head()"
      ],
      "execution_count": 224,
      "outputs": [
        {
          "output_type": "execute_result",
          "data": {
            "text/html": [
              "<div>\n",
              "<style scoped>\n",
              "    .dataframe tbody tr th:only-of-type {\n",
              "        vertical-align: middle;\n",
              "    }\n",
              "\n",
              "    .dataframe tbody tr th {\n",
              "        vertical-align: top;\n",
              "    }\n",
              "\n",
              "    .dataframe thead th {\n",
              "        text-align: right;\n",
              "    }\n",
              "</style>\n",
              "<table border=\"1\" class=\"dataframe\">\n",
              "  <thead>\n",
              "    <tr style=\"text-align: right;\">\n",
              "      <th></th>\n",
              "      <th>HDI</th>\n",
              "    </tr>\n",
              "    <tr>\n",
              "      <th>Country Code</th>\n",
              "      <th></th>\n",
              "    </tr>\n",
              "  </thead>\n",
              "  <tbody>\n",
              "    <tr>\n",
              "      <th>ARG</th>\n",
              "      <td>48</td>\n",
              "    </tr>\n",
              "    <tr>\n",
              "      <th>BRA</th>\n",
              "      <td>79</td>\n",
              "    </tr>\n",
              "    <tr>\n",
              "      <th>CHL</th>\n",
              "      <td>42</td>\n",
              "    </tr>\n",
              "    <tr>\n",
              "      <th>COL</th>\n",
              "      <td>79</td>\n",
              "    </tr>\n",
              "    <tr>\n",
              "      <th>ECU</th>\n",
              "      <td>85</td>\n",
              "    </tr>\n",
              "  </tbody>\n",
              "</table>\n",
              "</div>"
            ],
            "text/plain": [
              "              HDI\n",
              "Country Code     \n",
              "ARG            48\n",
              "BRA            79\n",
              "CHL            42\n",
              "COL            79\n",
              "ECU            85"
            ]
          },
          "metadata": {
            "tags": []
          },
          "execution_count": 224
        }
      ]
    },
    {
      "cell_type": "markdown",
      "metadata": {
        "id": "RewvGwbkI5Vz",
        "colab_type": "text"
      },
      "source": [
        "#### Sewer Network"
      ]
    },
    {
      "cell_type": "code",
      "metadata": {
        "id": "cyslq2j-I_qD",
        "colab_type": "code",
        "outputId": "a2454d4a-444f-45df-9451-34579ab08069",
        "colab": {
          "base_uri": "https://localhost:8080/",
          "height": 235
        }
      },
      "source": [
        "df_sewer_network = pd.read_csv(dados_tratados[\"REDE_DE_ESGOTO.csv\"]).rename(columns = {\"Population using at least basic sanitation services (%)\": \"Sanitation\"})\n",
        "\n",
        "urban_mask = (df_sewer_network[\"Type\"] == \"Urban\")\n",
        "rural_mask = (df_sewer_network[\"Type\"] == \"Rural\")\n",
        "total_mask = (df_sewer_network[\"Type\"] == \"Total\")\n",
        "\n",
        "df_sewer_network_urban = df_sewer_network.loc[urban_mask, [\"Country Code\", \"Year\", \"Sanitation\"]]\n",
        "df_sewer_network_urban = df_sewer_network_urban.sort_values([\"Country Code\", \"Year\"]).drop_duplicates(subset = \"Country Code\", keep = \"last\")\n",
        "df_sewer_network_urban = df_sewer_network_urban.rename(columns = {\"Sanitation\": \"Urban Sanitation (%)\"})\n",
        "df_sewer_network_urban = df_sewer_network_urban[[\"Country Code\", \"Urban Sanitation (%)\"]].set_index(\"Country Code\")\n",
        "\n",
        "df_sewer_network_rural = df_sewer_network.loc[rural_mask, [\"Country Code\", \"Year\", \"Sanitation\"]]\n",
        "df_sewer_network_rural = df_sewer_network_rural.sort_values([\"Country Code\", \"Year\"]).drop_duplicates(subset = \"Country Code\", keep = \"last\")\n",
        "df_sewer_network_rural = df_sewer_network_rural.rename(columns = {\"Sanitation\": \"Rural Sanitation (%)\"})\n",
        "df_sewer_network_rural = df_sewer_network_rural[[\"Country Code\", \"Rural Sanitation (%)\"]].set_index(\"Country Code\")\n",
        "\n",
        "df_sewer_network_total = df_sewer_network.loc[total_mask, [\"Country Code\", \"Year\", \"Sanitation\"]]\n",
        "df_sewer_network_total = df_sewer_network_total.sort_values([\"Country Code\", \"Year\"]).drop_duplicates(subset = \"Country Code\", keep = \"last\")\n",
        "df_sewer_network_total = df_sewer_network_total.rename(columns = {\"Sanitation\": \"Total Sanitation (%)\"})\n",
        "df_sewer_network_total = df_sewer_network_total[[\"Country Code\", \"Total Sanitation (%)\"]].set_index(\"Country Code\")\n",
        "\n",
        "df_sewer_network = df_sewer_network_urban.join(df_sewer_network_rural)\n",
        "df_sewer_network = df_sewer_network.join(df_sewer_network_total)\n",
        "\n",
        "dataframes[\"sewer_network\"] = df_sewer_network\n",
        "df_sewer_network.head()"
      ],
      "execution_count": 225,
      "outputs": [
        {
          "output_type": "execute_result",
          "data": {
            "text/html": [
              "<div>\n",
              "<style scoped>\n",
              "    .dataframe tbody tr th:only-of-type {\n",
              "        vertical-align: middle;\n",
              "    }\n",
              "\n",
              "    .dataframe tbody tr th {\n",
              "        vertical-align: top;\n",
              "    }\n",
              "\n",
              "    .dataframe thead th {\n",
              "        text-align: right;\n",
              "    }\n",
              "</style>\n",
              "<table border=\"1\" class=\"dataframe\">\n",
              "  <thead>\n",
              "    <tr style=\"text-align: right;\">\n",
              "      <th></th>\n",
              "      <th>Urban Sanitation (%)</th>\n",
              "      <th>Rural Sanitation (%)</th>\n",
              "      <th>Total Sanitation (%)</th>\n",
              "    </tr>\n",
              "    <tr>\n",
              "      <th>Country Code</th>\n",
              "      <th></th>\n",
              "      <th></th>\n",
              "      <th></th>\n",
              "    </tr>\n",
              "  </thead>\n",
              "  <tbody>\n",
              "    <tr>\n",
              "      <th>ARG</th>\n",
              "      <td>96.0</td>\n",
              "      <td>NaN</td>\n",
              "      <td>NaN</td>\n",
              "    </tr>\n",
              "    <tr>\n",
              "      <th>BOL</th>\n",
              "      <td>72.0</td>\n",
              "      <td>36.0</td>\n",
              "      <td>61.0</td>\n",
              "    </tr>\n",
              "    <tr>\n",
              "      <th>BRA</th>\n",
              "      <td>93.0</td>\n",
              "      <td>60.0</td>\n",
              "      <td>88.0</td>\n",
              "    </tr>\n",
              "    <tr>\n",
              "      <th>CHL</th>\n",
              "      <td>100.0</td>\n",
              "      <td>100.0</td>\n",
              "      <td>100.0</td>\n",
              "    </tr>\n",
              "    <tr>\n",
              "      <th>COL</th>\n",
              "      <td>93.0</td>\n",
              "      <td>76.0</td>\n",
              "      <td>90.0</td>\n",
              "    </tr>\n",
              "  </tbody>\n",
              "</table>\n",
              "</div>"
            ],
            "text/plain": [
              "              Urban Sanitation (%)  Rural Sanitation (%)  Total Sanitation (%)\n",
              "Country Code                                                                  \n",
              "ARG                           96.0                   NaN                   NaN\n",
              "BOL                           72.0                  36.0                  61.0\n",
              "BRA                           93.0                  60.0                  88.0\n",
              "CHL                          100.0                 100.0                 100.0\n",
              "COL                           93.0                  76.0                  90.0"
            ]
          },
          "metadata": {
            "tags": []
          },
          "execution_count": 225
        }
      ]
    },
    {
      "cell_type": "markdown",
      "metadata": {
        "id": "sewWlNsHR6TI",
        "colab_type": "text"
      },
      "source": [
        "#### Open Defecation"
      ]
    },
    {
      "cell_type": "code",
      "metadata": {
        "id": "QtCP_NojR_Wu",
        "colab_type": "code",
        "outputId": "eda67e58-4087-4474-f854-e6384d87979f",
        "colab": {
          "base_uri": "https://localhost:8080/",
          "height": 235
        }
      },
      "source": [
        "df_open_defecation = pd.read_csv(dados_tratados[\"OPEN_DEFECATION.csv\"]).rename(columns = {\"Population practising open defecation (%)\": \"Open Defecation\"})\n",
        "\n",
        "urban_mask = (df_open_defecation[\"Type\"] == \"Urban\")\n",
        "rural_mask = (df_open_defecation[\"Type\"] == \"Rural\")\n",
        "total_mask = (df_open_defecation[\"Type\"] == \"Total\")\n",
        "\n",
        "df_open_defecation_urban = df_open_defecation.loc[urban_mask, [\"Country Code\", \"Year\", \"Open Defecation\"]]\n",
        "df_open_defecation_urban = df_open_defecation_urban.sort_values([\"Country Code\", \"Year\"]).drop_duplicates(subset = \"Country Code\", keep = \"last\")\n",
        "df_open_defecation_urban = df_open_defecation_urban.rename(columns = {\"Open Defecation\": \"Urban Open Defecation (%)\"})\n",
        "df_open_defecation_urban = df_open_defecation_urban[[\"Country Code\", \"Urban Open Defecation (%)\"]].set_index(\"Country Code\")\n",
        "\n",
        "df_open_defecation_rural = df_open_defecation.loc[urban_mask, [\"Country Code\", \"Year\", \"Open Defecation\"]]\n",
        "df_open_defecation_rural = df_open_defecation_rural.sort_values([\"Country Code\", \"Year\"]).drop_duplicates(subset = \"Country Code\", keep = \"last\")\n",
        "df_open_defecation_rural = df_open_defecation_rural.rename(columns = {\"Open Defecation\": \"Rural Open Defecation (%)\"})\n",
        "df_open_defecation_rural = df_open_defecation_rural[[\"Country Code\", \"Rural Open Defecation (%)\"]].set_index(\"Country Code\")\n",
        "\n",
        "df_open_defecation_total = df_open_defecation.loc[urban_mask, [\"Country Code\", \"Year\", \"Open Defecation\"]]\n",
        "df_open_defecation_total = df_open_defecation_total.sort_values([\"Country Code\", \"Year\"]).drop_duplicates(subset = \"Country Code\", keep = \"last\")\n",
        "df_open_defecation_total = df_open_defecation_total.rename(columns = {\"Open Defecation\": \"Total Open Defecation (%)\"})\n",
        "df_open_defecation_total = df_open_defecation_total[[\"Country Code\", \"Total Open Defecation (%)\"]].set_index(\"Country Code\")\n",
        "\n",
        "df_open_defecation = df_open_defecation_urban.join(df_open_defecation_rural)\n",
        "df_open_defecation = df_open_defecation.join(df_open_defecation_total)\n",
        "\n",
        "dataframes[\"open_defecation\"] = df_open_defecation\n",
        "df_open_defecation.head()"
      ],
      "execution_count": 226,
      "outputs": [
        {
          "output_type": "execute_result",
          "data": {
            "text/html": [
              "<div>\n",
              "<style scoped>\n",
              "    .dataframe tbody tr th:only-of-type {\n",
              "        vertical-align: middle;\n",
              "    }\n",
              "\n",
              "    .dataframe tbody tr th {\n",
              "        vertical-align: top;\n",
              "    }\n",
              "\n",
              "    .dataframe thead th {\n",
              "        text-align: right;\n",
              "    }\n",
              "</style>\n",
              "<table border=\"1\" class=\"dataframe\">\n",
              "  <thead>\n",
              "    <tr style=\"text-align: right;\">\n",
              "      <th></th>\n",
              "      <th>Urban Open Defecation (%)</th>\n",
              "      <th>Rural Open Defecation (%)</th>\n",
              "      <th>Total Open Defecation (%)</th>\n",
              "    </tr>\n",
              "    <tr>\n",
              "      <th>Country Code</th>\n",
              "      <th></th>\n",
              "      <th></th>\n",
              "      <th></th>\n",
              "    </tr>\n",
              "  </thead>\n",
              "  <tbody>\n",
              "    <tr>\n",
              "      <th>ARG</th>\n",
              "      <td>2.0</td>\n",
              "      <td>2.0</td>\n",
              "      <td>2.0</td>\n",
              "    </tr>\n",
              "    <tr>\n",
              "      <th>BOL</th>\n",
              "      <td>2.0</td>\n",
              "      <td>2.0</td>\n",
              "      <td>2.0</td>\n",
              "    </tr>\n",
              "    <tr>\n",
              "      <th>BRA</th>\n",
              "      <td>0.0</td>\n",
              "      <td>0.0</td>\n",
              "      <td>0.0</td>\n",
              "    </tr>\n",
              "    <tr>\n",
              "      <th>CHL</th>\n",
              "      <td>0.0</td>\n",
              "      <td>0.0</td>\n",
              "      <td>0.0</td>\n",
              "    </tr>\n",
              "    <tr>\n",
              "      <th>COL</th>\n",
              "      <td>1.0</td>\n",
              "      <td>1.0</td>\n",
              "      <td>1.0</td>\n",
              "    </tr>\n",
              "  </tbody>\n",
              "</table>\n",
              "</div>"
            ],
            "text/plain": [
              "              Urban Open Defecation (%)  ...  Total Open Defecation (%)\n",
              "Country Code                             ...                           \n",
              "ARG                                 2.0  ...                        2.0\n",
              "BOL                                 2.0  ...                        2.0\n",
              "BRA                                 0.0  ...                        0.0\n",
              "CHL                                 0.0  ...                        0.0\n",
              "COL                                 1.0  ...                        1.0\n",
              "\n",
              "[5 rows x 3 columns]"
            ]
          },
          "metadata": {
            "tags": []
          },
          "execution_count": 226
        }
      ]
    },
    {
      "cell_type": "markdown",
      "metadata": {
        "id": "3RoSERCY7F1j",
        "colab_type": "text"
      },
      "source": [
        "#### Clean Water"
      ]
    },
    {
      "cell_type": "code",
      "metadata": {
        "id": "nH4MLZVD7Rfb",
        "colab_type": "code",
        "colab": {
          "base_uri": "https://localhost:8080/",
          "height": 235
        },
        "outputId": "53346967-11b2-4ebe-a8c0-342465564d17"
      },
      "source": [
        "df_clean_water = pd.read_csv(dados_tratados[\"AGUA_TRATADA.csv\"]).rename(columns = {\"Population using at least basic drinking-water services (%)\": \"Clean Water\"})\n",
        "\n",
        "urban_mask = (df_clean_water[\"Type\"] == \"Urban\")\n",
        "rural_mask = (df_clean_water[\"Type\"] == \"Rural\")\n",
        "total_mask = (df_clean_water[\"Type\"] == \"Total\")\n",
        "\n",
        "df_clean_water_urban = df_clean_water.loc[urban_mask, [\"Country Code\", \"Year\", \"Clean Water\"]]\n",
        "df_clean_water_urban = df_clean_water_urban.sort_values([\"Country Code\", \"Year\"]).drop_duplicates(subset = \"Country Code\", keep = \"last\")\n",
        "df_clean_water_urban = df_clean_water_urban.rename(columns = {\"Clean Water\": \"Urban Clean Water (%)\"})\n",
        "df_clean_water_urban = df_clean_water_urban[[\"Country Code\", \"Urban Clean Water (%)\"]].set_index(\"Country Code\")\n",
        "\n",
        "df_clean_water_rural = df_clean_water.loc[urban_mask, [\"Country Code\", \"Year\", \"Clean Water\"]]\n",
        "df_clean_water_rural = df_clean_water_rural.sort_values([\"Country Code\", \"Year\"]).drop_duplicates(subset = \"Country Code\", keep = \"last\")\n",
        "df_clean_water_rural = df_clean_water_rural.rename(columns = {\"Clean Water\": \"Rural Clean Water (%)\"})\n",
        "df_clean_water_rural = df_clean_water_rural[[\"Country Code\", \"Rural Clean Water (%)\"]].set_index(\"Country Code\")\n",
        "\n",
        "df_clean_water_total = df_clean_water.loc[urban_mask, [\"Country Code\", \"Year\", \"Clean Water\"]]\n",
        "df_clean_water_total = df_clean_water_total.sort_values([\"Country Code\", \"Year\"]).drop_duplicates(subset = \"Country Code\", keep = \"last\")\n",
        "df_clean_water_total = df_clean_water_total.rename(columns = {\"Clean Water\": \"Total Clean Water (%)\"})\n",
        "df_clean_water_total = df_clean_water_total[[\"Country Code\", \"Total Clean Water (%)\"]].set_index(\"Country Code\")\n",
        "\n",
        "df_clean_water = df_clean_water_urban.join(df_clean_water_rural)\n",
        "df_clean_water = df_clean_water.join(df_clean_water_total)\n",
        "\n",
        "dataframes[\"clean_water\"] = df_clean_water\n",
        "df_clean_water.head()"
      ],
      "execution_count": 227,
      "outputs": [
        {
          "output_type": "execute_result",
          "data": {
            "text/html": [
              "<div>\n",
              "<style scoped>\n",
              "    .dataframe tbody tr th:only-of-type {\n",
              "        vertical-align: middle;\n",
              "    }\n",
              "\n",
              "    .dataframe tbody tr th {\n",
              "        vertical-align: top;\n",
              "    }\n",
              "\n",
              "    .dataframe thead th {\n",
              "        text-align: right;\n",
              "    }\n",
              "</style>\n",
              "<table border=\"1\" class=\"dataframe\">\n",
              "  <thead>\n",
              "    <tr style=\"text-align: right;\">\n",
              "      <th></th>\n",
              "      <th>Urban Clean Water (%)</th>\n",
              "      <th>Rural Clean Water (%)</th>\n",
              "      <th>Total Clean Water (%)</th>\n",
              "    </tr>\n",
              "    <tr>\n",
              "      <th>Country Code</th>\n",
              "      <th></th>\n",
              "      <th></th>\n",
              "      <th></th>\n",
              "    </tr>\n",
              "  </thead>\n",
              "  <tbody>\n",
              "    <tr>\n",
              "      <th>ARG</th>\n",
              "      <td>100.0</td>\n",
              "      <td>100.0</td>\n",
              "      <td>100.0</td>\n",
              "    </tr>\n",
              "    <tr>\n",
              "      <th>BOL</th>\n",
              "      <td>99.0</td>\n",
              "      <td>99.0</td>\n",
              "      <td>99.0</td>\n",
              "    </tr>\n",
              "    <tr>\n",
              "      <th>BRA</th>\n",
              "      <td>100.0</td>\n",
              "      <td>100.0</td>\n",
              "      <td>100.0</td>\n",
              "    </tr>\n",
              "    <tr>\n",
              "      <th>CHL</th>\n",
              "      <td>100.0</td>\n",
              "      <td>100.0</td>\n",
              "      <td>100.0</td>\n",
              "    </tr>\n",
              "    <tr>\n",
              "      <th>COL</th>\n",
              "      <td>100.0</td>\n",
              "      <td>100.0</td>\n",
              "      <td>100.0</td>\n",
              "    </tr>\n",
              "  </tbody>\n",
              "</table>\n",
              "</div>"
            ],
            "text/plain": [
              "              Urban Clean Water (%)  ...  Total Clean Water (%)\n",
              "Country Code                         ...                       \n",
              "ARG                           100.0  ...                  100.0\n",
              "BOL                            99.0  ...                   99.0\n",
              "BRA                           100.0  ...                  100.0\n",
              "CHL                           100.0  ...                  100.0\n",
              "COL                           100.0  ...                  100.0\n",
              "\n",
              "[5 rows x 3 columns]"
            ]
          },
          "metadata": {
            "tags": []
          },
          "execution_count": 227
        }
      ]
    },
    {
      "cell_type": "markdown",
      "metadata": {
        "id": "JzqZ74T-8Ree",
        "colab_type": "text"
      },
      "source": [
        "#### Basic Hygiene"
      ]
    },
    {
      "cell_type": "code",
      "metadata": {
        "id": "Ow0g95d48QVn",
        "colab_type": "code",
        "colab": {
          "base_uri": "https://localhost:8080/",
          "height": 235
        },
        "outputId": "32e4110a-33ff-47b2-d0eb-b4a045d96ab9"
      },
      "source": [
        "df_basic_hygiene = pd.read_csv(dados_tratados[\"BASIC_HYGIENE.csv\"]).rename(columns = {\"Population with basic handwashing facilities at home (%)\": \"Basic Hygiene\"})\n",
        "\n",
        "urban_mask = (df_basic_hygiene[\"Type\"] == \"Urban\")\n",
        "rural_mask = (df_basic_hygiene[\"Type\"] == \"Rural\")\n",
        "total_mask = (df_basic_hygiene[\"Type\"] == \"Total\")\n",
        "\n",
        "df_basic_hygiene_urban = df_basic_hygiene.loc[urban_mask, [\"Country Code\", \"Year\", \"Basic Hygiene\"]]\n",
        "df_basic_hygiene_urban = df_basic_hygiene_urban.sort_values([\"Country Code\", \"Year\"]).drop_duplicates(subset = \"Country Code\", keep = \"last\")\n",
        "df_basic_hygiene_urban = df_basic_hygiene_urban.rename(columns = {\"Basic Hygiene\": \"Urban Basic Hygiene (%)\"})\n",
        "df_basic_hygiene_urban = df_basic_hygiene_urban[[\"Country Code\", \"Urban Basic Hygiene (%)\"]].set_index(\"Country Code\")\n",
        "\n",
        "df_basic_hygiene_rural = df_basic_hygiene.loc[urban_mask, [\"Country Code\", \"Year\", \"Basic Hygiene\"]]\n",
        "df_basic_hygiene_rural = df_basic_hygiene_rural.sort_values([\"Country Code\", \"Year\"]).drop_duplicates(subset = \"Country Code\", keep = \"last\")\n",
        "df_basic_hygiene_rural = df_basic_hygiene_rural.rename(columns = {\"Basic Hygiene\": \"Rural Basic Hygiene (%)\"})\n",
        "df_basic_hygiene_rural = df_basic_hygiene_rural[[\"Country Code\", \"Rural Basic Hygiene (%)\"]].set_index(\"Country Code\")\n",
        "\n",
        "df_basic_hygiene_total = df_basic_hygiene.loc[urban_mask, [\"Country Code\", \"Year\", \"Basic Hygiene\"]]\n",
        "df_basic_hygiene_total = df_basic_hygiene_total.sort_values([\"Country Code\", \"Year\"]).drop_duplicates(subset = \"Country Code\", keep = \"last\")\n",
        "df_basic_hygiene_total = df_basic_hygiene_total.rename(columns = {\"Basic Hygiene\": \"Total Basic Hygiene (%)\"})\n",
        "df_basic_hygiene_total = df_basic_hygiene_total[[\"Country Code\", \"Total Basic Hygiene (%)\"]].set_index(\"Country Code\")\n",
        "\n",
        "df_basic_hygiene = df_basic_hygiene_urban.join(df_basic_hygiene_rural)\n",
        "df_basic_hygiene = df_basic_hygiene.join(df_basic_hygiene_total)\n",
        "\n",
        "dataframes[\"basic_hygiene\"] = df_basic_hygiene\n",
        "df_basic_hygiene.head()"
      ],
      "execution_count": 228,
      "outputs": [
        {
          "output_type": "execute_result",
          "data": {
            "text/html": [
              "<div>\n",
              "<style scoped>\n",
              "    .dataframe tbody tr th:only-of-type {\n",
              "        vertical-align: middle;\n",
              "    }\n",
              "\n",
              "    .dataframe tbody tr th {\n",
              "        vertical-align: top;\n",
              "    }\n",
              "\n",
              "    .dataframe thead th {\n",
              "        text-align: right;\n",
              "    }\n",
              "</style>\n",
              "<table border=\"1\" class=\"dataframe\">\n",
              "  <thead>\n",
              "    <tr style=\"text-align: right;\">\n",
              "      <th></th>\n",
              "      <th>Urban Basic Hygiene (%)</th>\n",
              "      <th>Rural Basic Hygiene (%)</th>\n",
              "      <th>Total Basic Hygiene (%)</th>\n",
              "    </tr>\n",
              "    <tr>\n",
              "      <th>Country Code</th>\n",
              "      <th></th>\n",
              "      <th></th>\n",
              "      <th></th>\n",
              "    </tr>\n",
              "  </thead>\n",
              "  <tbody>\n",
              "    <tr>\n",
              "      <th>BOL</th>\n",
              "      <td>28.0</td>\n",
              "      <td>28.0</td>\n",
              "      <td>28.0</td>\n",
              "    </tr>\n",
              "    <tr>\n",
              "      <th>COL</th>\n",
              "      <td>73.0</td>\n",
              "      <td>73.0</td>\n",
              "      <td>73.0</td>\n",
              "    </tr>\n",
              "    <tr>\n",
              "      <th>ECU</th>\n",
              "      <td>84.0</td>\n",
              "      <td>84.0</td>\n",
              "      <td>84.0</td>\n",
              "    </tr>\n",
              "    <tr>\n",
              "      <th>MEX</th>\n",
              "      <td>90.0</td>\n",
              "      <td>90.0</td>\n",
              "      <td>90.0</td>\n",
              "    </tr>\n",
              "    <tr>\n",
              "      <th>PER</th>\n",
              "      <td>NaN</td>\n",
              "      <td>NaN</td>\n",
              "      <td>NaN</td>\n",
              "    </tr>\n",
              "  </tbody>\n",
              "</table>\n",
              "</div>"
            ],
            "text/plain": [
              "              Urban Basic Hygiene (%)  ...  Total Basic Hygiene (%)\n",
              "Country Code                           ...                         \n",
              "BOL                              28.0  ...                     28.0\n",
              "COL                              73.0  ...                     73.0\n",
              "ECU                              84.0  ...                     84.0\n",
              "MEX                              90.0  ...                     90.0\n",
              "PER                               NaN  ...                      NaN\n",
              "\n",
              "[5 rows x 3 columns]"
            ]
          },
          "metadata": {
            "tags": []
          },
          "execution_count": 228
        }
      ]
    },
    {
      "cell_type": "markdown",
      "metadata": {
        "id": "21eAbggB9KBF",
        "colab_type": "text"
      },
      "source": [
        "#### Disasters"
      ]
    },
    {
      "cell_type": "code",
      "metadata": {
        "id": "oY0Z1qPe9Jd8",
        "colab_type": "code",
        "colab": {
          "base_uri": "https://localhost:8080/",
          "height": 390
        },
        "outputId": "caf28f89-34d9-4c15-f3f9-a5c83e8e5906"
      },
      "source": [
        "df_disasters = pd.read_csv(dados_tratados[\"DESASTRES.csv\"]).sort_values([\"Country Code\", \"Year\"], ignore_index = True)\n",
        "countries = df_disasters[\"Country Code\"].unique()\n",
        "df_disasters = df_disasters.dropna()\n",
        "\n",
        "df_disasters_aux = pd.DataFrame()\n",
        "\n",
        "for crt in countries:\n",
        "  country_mask = (df_disasters[\"Country Code\"] == crt)\n",
        "  years = np.sort(df_disasters.loc[country_mask, \"Year\"].values)[-2:]\n",
        "  year_mask = df_disasters[\"Year\"].isin(years)\n",
        "\n",
        "  df_disasters_aux = pd.concat([df_disasters_aux,df_disasters.loc[country_mask & year_mask, [\"Country Code\", \"Total Affected\"]]])\n",
        "\n",
        "df_disasters = df_disasters_aux.groupby(\"Country Code\").sum()\n",
        "dataframes[\"disasters\"] = df_disasters\n",
        "df_disasters"
      ],
      "execution_count": 229,
      "outputs": [
        {
          "output_type": "execute_result",
          "data": {
            "text/html": [
              "<div>\n",
              "<style scoped>\n",
              "    .dataframe tbody tr th:only-of-type {\n",
              "        vertical-align: middle;\n",
              "    }\n",
              "\n",
              "    .dataframe tbody tr th {\n",
              "        vertical-align: top;\n",
              "    }\n",
              "\n",
              "    .dataframe thead th {\n",
              "        text-align: right;\n",
              "    }\n",
              "</style>\n",
              "<table border=\"1\" class=\"dataframe\">\n",
              "  <thead>\n",
              "    <tr style=\"text-align: right;\">\n",
              "      <th></th>\n",
              "      <th>Total Affected</th>\n",
              "    </tr>\n",
              "    <tr>\n",
              "      <th>Country Code</th>\n",
              "      <th></th>\n",
              "    </tr>\n",
              "  </thead>\n",
              "  <tbody>\n",
              "    <tr>\n",
              "      <th>ARG</th>\n",
              "      <td>37652.0</td>\n",
              "    </tr>\n",
              "    <tr>\n",
              "      <th>BOL</th>\n",
              "      <td>3021.0</td>\n",
              "    </tr>\n",
              "    <tr>\n",
              "      <th>BRA</th>\n",
              "      <td>30143.0</td>\n",
              "    </tr>\n",
              "    <tr>\n",
              "      <th>CHL</th>\n",
              "      <td>1549.0</td>\n",
              "    </tr>\n",
              "    <tr>\n",
              "      <th>COL</th>\n",
              "      <td>79648.0</td>\n",
              "    </tr>\n",
              "    <tr>\n",
              "      <th>ECU</th>\n",
              "      <td>421.0</td>\n",
              "    </tr>\n",
              "    <tr>\n",
              "      <th>MEX</th>\n",
              "      <td>1297.0</td>\n",
              "    </tr>\n",
              "    <tr>\n",
              "      <th>PER</th>\n",
              "      <td>53.0</td>\n",
              "    </tr>\n",
              "    <tr>\n",
              "      <th>SLV</th>\n",
              "      <td>16758.0</td>\n",
              "    </tr>\n",
              "    <tr>\n",
              "      <th>VEN</th>\n",
              "      <td>1033.0</td>\n",
              "    </tr>\n",
              "  </tbody>\n",
              "</table>\n",
              "</div>"
            ],
            "text/plain": [
              "              Total Affected\n",
              "Country Code                \n",
              "ARG                  37652.0\n",
              "BOL                   3021.0\n",
              "BRA                  30143.0\n",
              "CHL                   1549.0\n",
              "COL                  79648.0\n",
              "ECU                    421.0\n",
              "MEX                   1297.0\n",
              "PER                     53.0\n",
              "SLV                  16758.0\n",
              "VEN                   1033.0"
            ]
          },
          "metadata": {
            "tags": []
          },
          "execution_count": 229
        }
      ]
    },
    {
      "cell_type": "markdown",
      "metadata": {
        "id": "sura4hCIEHLj",
        "colab_type": "text"
      },
      "source": [
        "#### Hospital Beds"
      ]
    },
    {
      "cell_type": "code",
      "metadata": {
        "id": "nNHNoTjeEGmd",
        "colab_type": "code",
        "colab": {
          "base_uri": "https://localhost:8080/",
          "height": 235
        },
        "outputId": "5f819532-21a5-4c51-9026-dc60ca50549f"
      },
      "source": [
        "df_hospital_beds = pd.read_csv(dados_tratados[\"HOSPITAL_BEDS.csv\"])\n",
        "df_hospital_beds = df_hospital_beds.sort_values([\"Country Code\", \"Year\"]).drop_duplicates(subset = \"Country Code\", keep='last')\n",
        "df_hospital_beds = df_hospital_beds[[\"Country Code\", \"Hospital Beds\"]].set_index(\"Country Code\")\n",
        "dataframes[\"hospital_beds\"] = df_hospital_beds\n",
        "df_hospital_beds.head()"
      ],
      "execution_count": 230,
      "outputs": [
        {
          "output_type": "execute_result",
          "data": {
            "text/html": [
              "<div>\n",
              "<style scoped>\n",
              "    .dataframe tbody tr th:only-of-type {\n",
              "        vertical-align: middle;\n",
              "    }\n",
              "\n",
              "    .dataframe tbody tr th {\n",
              "        vertical-align: top;\n",
              "    }\n",
              "\n",
              "    .dataframe thead th {\n",
              "        text-align: right;\n",
              "    }\n",
              "</style>\n",
              "<table border=\"1\" class=\"dataframe\">\n",
              "  <thead>\n",
              "    <tr style=\"text-align: right;\">\n",
              "      <th></th>\n",
              "      <th>Hospital Beds</th>\n",
              "    </tr>\n",
              "    <tr>\n",
              "      <th>Country Code</th>\n",
              "      <th></th>\n",
              "    </tr>\n",
              "  </thead>\n",
              "  <tbody>\n",
              "    <tr>\n",
              "      <th>ARG</th>\n",
              "      <td>5.0</td>\n",
              "    </tr>\n",
              "    <tr>\n",
              "      <th>BOL</th>\n",
              "      <td>1.1</td>\n",
              "    </tr>\n",
              "    <tr>\n",
              "      <th>BRA</th>\n",
              "      <td>2.2</td>\n",
              "    </tr>\n",
              "    <tr>\n",
              "      <th>CHL</th>\n",
              "      <td>2.2</td>\n",
              "    </tr>\n",
              "    <tr>\n",
              "      <th>COL</th>\n",
              "      <td>1.5</td>\n",
              "    </tr>\n",
              "  </tbody>\n",
              "</table>\n",
              "</div>"
            ],
            "text/plain": [
              "              Hospital Beds\n",
              "Country Code               \n",
              "ARG                     5.0\n",
              "BOL                     1.1\n",
              "BRA                     2.2\n",
              "CHL                     2.2\n",
              "COL                     1.5"
            ]
          },
          "metadata": {
            "tags": []
          },
          "execution_count": 230
        }
      ]
    },
    {
      "cell_type": "markdown",
      "metadata": {
        "id": "YXef1r9RFX6t",
        "colab_type": "text"
      },
      "source": [
        "#### Immunization"
      ]
    },
    {
      "cell_type": "code",
      "metadata": {
        "id": "1xDP_GcHPjH2",
        "colab_type": "code",
        "colab": {
          "base_uri": "https://localhost:8080/",
          "height": 235
        },
        "outputId": "55940637-835b-498d-e3b4-34096d77c808"
      },
      "source": [
        "df_immunization = pd.read_csv(dados_tratados[\"IMMUNIZATION_3.csv\"])\n",
        "df_immunization = df_immunization.set_index(\"Country Code\")\n",
        "\n",
        "dataframes[\"immunization\"] = df_immunization\n",
        "df_immunization.head()"
      ],
      "execution_count": 231,
      "outputs": [
        {
          "output_type": "execute_result",
          "data": {
            "text/html": [
              "<div>\n",
              "<style scoped>\n",
              "    .dataframe tbody tr th:only-of-type {\n",
              "        vertical-align: middle;\n",
              "    }\n",
              "\n",
              "    .dataframe tbody tr th {\n",
              "        vertical-align: top;\n",
              "    }\n",
              "\n",
              "    .dataframe thead th {\n",
              "        text-align: right;\n",
              "    }\n",
              "</style>\n",
              "<table border=\"1\" class=\"dataframe\">\n",
              "  <thead>\n",
              "    <tr style=\"text-align: right;\">\n",
              "      <th></th>\n",
              "      <th>BCG</th>\n",
              "      <th>HepB3</th>\n",
              "      <th>IPV1</th>\n",
              "      <th>Hib3</th>\n",
              "      <th>RCV1</th>\n",
              "      <th>Rota1</th>\n",
              "      <th>DTP</th>\n",
              "      <th>PCV</th>\n",
              "      <th>MCV</th>\n",
              "      <th>Mean Coverage Percentage</th>\n",
              "    </tr>\n",
              "    <tr>\n",
              "      <th>Country Code</th>\n",
              "      <th></th>\n",
              "      <th></th>\n",
              "      <th></th>\n",
              "      <th></th>\n",
              "      <th></th>\n",
              "      <th></th>\n",
              "      <th></th>\n",
              "      <th></th>\n",
              "      <th></th>\n",
              "      <th></th>\n",
              "    </tr>\n",
              "  </thead>\n",
              "  <tbody>\n",
              "    <tr>\n",
              "      <th>ARG</th>\n",
              "      <td>93.0</td>\n",
              "      <td>86.0</td>\n",
              "      <td>90.0</td>\n",
              "      <td>86.0</td>\n",
              "      <td>94.0</td>\n",
              "      <td>88.0</td>\n",
              "      <td>91.0</td>\n",
              "      <td>92.0</td>\n",
              "      <td>99.0</td>\n",
              "      <td>91.000000</td>\n",
              "    </tr>\n",
              "    <tr>\n",
              "      <th>BOL</th>\n",
              "      <td>90.0</td>\n",
              "      <td>83.0</td>\n",
              "      <td>89.0</td>\n",
              "      <td>83.0</td>\n",
              "      <td>89.0</td>\n",
              "      <td>88.0</td>\n",
              "      <td>89.0</td>\n",
              "      <td>87.0</td>\n",
              "      <td>89.0</td>\n",
              "      <td>87.444444</td>\n",
              "    </tr>\n",
              "    <tr>\n",
              "      <th>BRA</th>\n",
              "      <td>98.0</td>\n",
              "      <td>93.0</td>\n",
              "      <td>88.0</td>\n",
              "      <td>83.0</td>\n",
              "      <td>92.0</td>\n",
              "      <td>90.0</td>\n",
              "      <td>87.0</td>\n",
              "      <td>87.0</td>\n",
              "      <td>92.0</td>\n",
              "      <td>90.000000</td>\n",
              "    </tr>\n",
              "    <tr>\n",
              "      <th>CHL</th>\n",
              "      <td>96.0</td>\n",
              "      <td>95.0</td>\n",
              "      <td>98.0</td>\n",
              "      <td>95.0</td>\n",
              "      <td>93.0</td>\n",
              "      <td>NaN</td>\n",
              "      <td>99.0</td>\n",
              "      <td>98.0</td>\n",
              "      <td>93.0</td>\n",
              "      <td>95.875000</td>\n",
              "    </tr>\n",
              "    <tr>\n",
              "      <th>COL</th>\n",
              "      <td>89.0</td>\n",
              "      <td>92.0</td>\n",
              "      <td>93.0</td>\n",
              "      <td>92.0</td>\n",
              "      <td>95.0</td>\n",
              "      <td>89.0</td>\n",
              "      <td>92.0</td>\n",
              "      <td>94.0</td>\n",
              "      <td>95.0</td>\n",
              "      <td>92.333333</td>\n",
              "    </tr>\n",
              "  </tbody>\n",
              "</table>\n",
              "</div>"
            ],
            "text/plain": [
              "               BCG  HepB3  IPV1  ...   PCV   MCV  Mean Coverage Percentage\n",
              "Country Code                     ...                                      \n",
              "ARG           93.0   86.0  90.0  ...  92.0  99.0                 91.000000\n",
              "BOL           90.0   83.0  89.0  ...  87.0  89.0                 87.444444\n",
              "BRA           98.0   93.0  88.0  ...  87.0  92.0                 90.000000\n",
              "CHL           96.0   95.0  98.0  ...  98.0  93.0                 95.875000\n",
              "COL           89.0   92.0  93.0  ...  94.0  95.0                 92.333333\n",
              "\n",
              "[5 rows x 10 columns]"
            ]
          },
          "metadata": {
            "tags": []
          },
          "execution_count": 231
        }
      ]
    },
    {
      "cell_type": "markdown",
      "metadata": {
        "id": "AeIce5CSJXcV",
        "colab_type": "text"
      },
      "source": [
        "#### Physicians per 10,000 inhabitants"
      ]
    },
    {
      "cell_type": "code",
      "metadata": {
        "id": "XEHZERD9KAXr",
        "colab_type": "code",
        "colab": {
          "base_uri": "https://localhost:8080/",
          "height": 235
        },
        "outputId": "2f739694-f1fd-45bc-8cf2-7bc805a3b3d9"
      },
      "source": [
        "df_physicians = pd.read_csv(dados_tratados[\"MEDICOS.csv\"]).rename(columns = {\"First Tooltip\": \"Physicians per 10,000\"})\n",
        "df_physicians = df_physicians.sort_values([\"Country Code\", \"Year\"]).drop_duplicates(subset=\"Country Code\", keep=\"last\")\n",
        "df_physicians = df_physicians[[\"Country Code\", \"Physicians per 10,000\"]].set_index(\"Country Code\")\n",
        "\n",
        "dataframes[\"physicians\"] = df_physicians\n",
        "df_physicians.head()"
      ],
      "execution_count": 232,
      "outputs": [
        {
          "output_type": "execute_result",
          "data": {
            "text/html": [
              "<div>\n",
              "<style scoped>\n",
              "    .dataframe tbody tr th:only-of-type {\n",
              "        vertical-align: middle;\n",
              "    }\n",
              "\n",
              "    .dataframe tbody tr th {\n",
              "        vertical-align: top;\n",
              "    }\n",
              "\n",
              "    .dataframe thead th {\n",
              "        text-align: right;\n",
              "    }\n",
              "</style>\n",
              "<table border=\"1\" class=\"dataframe\">\n",
              "  <thead>\n",
              "    <tr style=\"text-align: right;\">\n",
              "      <th></th>\n",
              "      <th>Physicians per 10,000</th>\n",
              "    </tr>\n",
              "    <tr>\n",
              "      <th>Country Code</th>\n",
              "      <th></th>\n",
              "    </tr>\n",
              "  </thead>\n",
              "  <tbody>\n",
              "    <tr>\n",
              "      <th>ARG</th>\n",
              "      <td>39.90</td>\n",
              "    </tr>\n",
              "    <tr>\n",
              "      <th>BOL</th>\n",
              "      <td>15.90</td>\n",
              "    </tr>\n",
              "    <tr>\n",
              "      <th>BRA</th>\n",
              "      <td>21.64</td>\n",
              "    </tr>\n",
              "    <tr>\n",
              "      <th>CHL</th>\n",
              "      <td>25.91</td>\n",
              "    </tr>\n",
              "    <tr>\n",
              "      <th>COL</th>\n",
              "      <td>21.85</td>\n",
              "    </tr>\n",
              "  </tbody>\n",
              "</table>\n",
              "</div>"
            ],
            "text/plain": [
              "              Physicians per 10,000\n",
              "Country Code                       \n",
              "ARG                           39.90\n",
              "BOL                           15.90\n",
              "BRA                           21.64\n",
              "CHL                           25.91\n",
              "COL                           21.85"
            ]
          },
          "metadata": {
            "tags": []
          },
          "execution_count": 232
        }
      ]
    },
    {
      "cell_type": "markdown",
      "metadata": {
        "id": "zCHfHaxmOSyE",
        "colab_type": "text"
      },
      "source": [
        "#### Minimum Wage"
      ]
    },
    {
      "cell_type": "code",
      "metadata": {
        "id": "VS-JqDYROZc9",
        "colab_type": "code",
        "colab": {
          "base_uri": "https://localhost:8080/",
          "height": 235
        },
        "outputId": "8146df55-c611-4b99-a432-d9237a477d29"
      },
      "source": [
        "df_minimum_wage = pd.read_csv(dados_tratados[\"SALARIO_MINIMO.csv\"]).rename(columns = {\"Minimum Wage USD\": \"Minimum Wage (USD)\"})\n",
        "df_minimum_wage = df_minimum_wage.sort_values([\"Country Code\", \"Year\"]).drop_duplicates(subset = \"Country Code\", keep=\"last\")\n",
        "df_minimum_wage = df_minimum_wage[[\"Country Code\", \"Minimum Wage (USD)\"]].set_index(\"Country Code\")\n",
        "\n",
        "dataframes[\"minimum_wage\"] = df_minimum_wage\n",
        "df_minimum_wage.head()"
      ],
      "execution_count": 233,
      "outputs": [
        {
          "output_type": "execute_result",
          "data": {
            "text/html": [
              "<div>\n",
              "<style scoped>\n",
              "    .dataframe tbody tr th:only-of-type {\n",
              "        vertical-align: middle;\n",
              "    }\n",
              "\n",
              "    .dataframe tbody tr th {\n",
              "        vertical-align: top;\n",
              "    }\n",
              "\n",
              "    .dataframe thead th {\n",
              "        text-align: right;\n",
              "    }\n",
              "</style>\n",
              "<table border=\"1\" class=\"dataframe\">\n",
              "  <thead>\n",
              "    <tr style=\"text-align: right;\">\n",
              "      <th></th>\n",
              "      <th>Minimum Wage (USD)</th>\n",
              "    </tr>\n",
              "    <tr>\n",
              "      <th>Country Code</th>\n",
              "      <th></th>\n",
              "    </tr>\n",
              "  </thead>\n",
              "  <tbody>\n",
              "    <tr>\n",
              "      <th>ARG</th>\n",
              "      <td>454.8</td>\n",
              "    </tr>\n",
              "    <tr>\n",
              "      <th>BOL</th>\n",
              "      <td>291.6</td>\n",
              "    </tr>\n",
              "    <tr>\n",
              "      <th>BRA</th>\n",
              "      <td>257.2</td>\n",
              "    </tr>\n",
              "    <tr>\n",
              "      <th>CHL</th>\n",
              "      <td>429.6</td>\n",
              "    </tr>\n",
              "    <tr>\n",
              "      <th>COL</th>\n",
              "      <td>252.9</td>\n",
              "    </tr>\n",
              "  </tbody>\n",
              "</table>\n",
              "</div>"
            ],
            "text/plain": [
              "              Minimum Wage (USD)\n",
              "Country Code                    \n",
              "ARG                        454.8\n",
              "BOL                        291.6\n",
              "BRA                        257.2\n",
              "CHL                        429.6\n",
              "COL                        252.9"
            ]
          },
          "metadata": {
            "tags": []
          },
          "execution_count": 233
        }
      ]
    },
    {
      "cell_type": "markdown",
      "metadata": {
        "id": "lP4Si-WiRYLo",
        "colab_type": "text"
      },
      "source": [
        "#### Currency Value"
      ]
    },
    {
      "cell_type": "code",
      "metadata": {
        "id": "k_qwIIbMRbLq",
        "colab_type": "code",
        "colab": {
          "base_uri": "https://localhost:8080/",
          "height": 235
        },
        "outputId": "9722caff-128e-49f7-ead1-d155450109d2"
      },
      "source": [
        "df_currency_value = pd.read_csv(dados_tratados[\"LOCAL_X_USD.csv\"]).rename(columns = {\"Price\": \"Currency Value (USD)\"})\n",
        "df_currency_value = df_currency_value.sort_values([\"Country Code\", \"Date\"]).drop_duplicates(subset = \"Country Code\", keep=\"last\")\n",
        "df_currency_value = df_currency_value[[\"Country Code\", \"Currency Value (USD)\"]].set_index(\"Country Code\")\n",
        "\n",
        "dataframes[\"currency_value\"] = df_currency_value\n",
        "df_currency_value.head()"
      ],
      "execution_count": 234,
      "outputs": [
        {
          "output_type": "execute_result",
          "data": {
            "text/html": [
              "<div>\n",
              "<style scoped>\n",
              "    .dataframe tbody tr th:only-of-type {\n",
              "        vertical-align: middle;\n",
              "    }\n",
              "\n",
              "    .dataframe tbody tr th {\n",
              "        vertical-align: top;\n",
              "    }\n",
              "\n",
              "    .dataframe thead th {\n",
              "        text-align: right;\n",
              "    }\n",
              "</style>\n",
              "<table border=\"1\" class=\"dataframe\">\n",
              "  <thead>\n",
              "    <tr style=\"text-align: right;\">\n",
              "      <th></th>\n",
              "      <th>Currency Value (USD)</th>\n",
              "    </tr>\n",
              "    <tr>\n",
              "      <th>Country Code</th>\n",
              "      <th></th>\n",
              "    </tr>\n",
              "  </thead>\n",
              "  <tbody>\n",
              "    <tr>\n",
              "      <th>ARG</th>\n",
              "      <td>0.014600</td>\n",
              "    </tr>\n",
              "    <tr>\n",
              "      <th>BOL</th>\n",
              "      <td>0.144800</td>\n",
              "    </tr>\n",
              "    <tr>\n",
              "      <th>BRA</th>\n",
              "      <td>0.187400</td>\n",
              "    </tr>\n",
              "    <tr>\n",
              "      <th>CHL</th>\n",
              "      <td>0.001251</td>\n",
              "    </tr>\n",
              "    <tr>\n",
              "      <th>COL</th>\n",
              "      <td>0.000268</td>\n",
              "    </tr>\n",
              "  </tbody>\n",
              "</table>\n",
              "</div>"
            ],
            "text/plain": [
              "              Currency Value (USD)\n",
              "Country Code                      \n",
              "ARG                       0.014600\n",
              "BOL                       0.144800\n",
              "BRA                       0.187400\n",
              "CHL                       0.001251\n",
              "COL                       0.000268"
            ]
          },
          "metadata": {
            "tags": []
          },
          "execution_count": 234
        }
      ]
    },
    {
      "cell_type": "markdown",
      "metadata": {
        "id": "6xfa2QH1Sxlw",
        "colab_type": "text"
      },
      "source": [
        "#### GDP per Capta"
      ]
    },
    {
      "cell_type": "code",
      "metadata": {
        "id": "SvMUBei2SzqY",
        "colab_type": "code",
        "colab": {
          "base_uri": "https://localhost:8080/",
          "height": 235
        },
        "outputId": "c1f5a1f0-3986-466e-8f1c-b37de4c91544"
      },
      "source": [
        "df_gdp_capta = pd.read_csv(dados_tratados[\"REAL_GDP_PER_CAPITA_CONSTANT_US$.csv\"]).rename(columns = {\"GDP\": \"GDP (USD)\"})\n",
        "df_gdp_capta = df_gdp_capta.sort_values([\"Country Code\", \"Year\"]).drop_duplicates(subset = \"Country Code\", keep=\"last\")\n",
        "df_gdp_capta = df_gdp_capta[[\"Country Code\", \"GDP (USD)\"]].set_index(\"Country Code\")\n",
        "\n",
        "dataframes[\"gdp_capta\"] = df_gdp_capta\n",
        "df_gdp_capta.head()"
      ],
      "execution_count": 235,
      "outputs": [
        {
          "output_type": "execute_result",
          "data": {
            "text/html": [
              "<div>\n",
              "<style scoped>\n",
              "    .dataframe tbody tr th:only-of-type {\n",
              "        vertical-align: middle;\n",
              "    }\n",
              "\n",
              "    .dataframe tbody tr th {\n",
              "        vertical-align: top;\n",
              "    }\n",
              "\n",
              "    .dataframe thead th {\n",
              "        text-align: right;\n",
              "    }\n",
              "</style>\n",
              "<table border=\"1\" class=\"dataframe\">\n",
              "  <thead>\n",
              "    <tr style=\"text-align: right;\">\n",
              "      <th></th>\n",
              "      <th>GDP (USD)</th>\n",
              "    </tr>\n",
              "    <tr>\n",
              "      <th>Country Code</th>\n",
              "      <th></th>\n",
              "    </tr>\n",
              "  </thead>\n",
              "  <tbody>\n",
              "    <tr>\n",
              "      <th>ARG</th>\n",
              "      <td>10043.508552</td>\n",
              "    </tr>\n",
              "    <tr>\n",
              "      <th>BOL</th>\n",
              "      <td>2559.511317</td>\n",
              "    </tr>\n",
              "    <tr>\n",
              "      <th>BRA</th>\n",
              "      <td>11079.709675</td>\n",
              "    </tr>\n",
              "    <tr>\n",
              "      <th>CHL</th>\n",
              "      <td>15130.154322</td>\n",
              "    </tr>\n",
              "    <tr>\n",
              "      <th>COL</th>\n",
              "      <td>7691.745564</td>\n",
              "    </tr>\n",
              "  </tbody>\n",
              "</table>\n",
              "</div>"
            ],
            "text/plain": [
              "                 GDP (USD)\n",
              "Country Code              \n",
              "ARG           10043.508552\n",
              "BOL            2559.511317\n",
              "BRA           11079.709675\n",
              "CHL           15130.154322\n",
              "COL            7691.745564"
            ]
          },
          "metadata": {
            "tags": []
          },
          "execution_count": 235
        }
      ]
    },
    {
      "cell_type": "markdown",
      "metadata": {
        "id": "Vg8zizpbX4vQ",
        "colab_type": "text"
      },
      "source": [
        "#### Saving Latin America Dataset"
      ]
    },
    {
      "cell_type": "code",
      "metadata": {
        "id": "GSg9Adb3UBSv",
        "colab_type": "code",
        "colab": {
          "base_uri": "https://localhost:8080/",
          "height": 544
        },
        "outputId": "ab09ffdf-42f6-455f-fc08-66ce1b8f0141"
      },
      "source": [
        "df_latin_america = None\n",
        "for df_name, df in dataframes.items():\n",
        "  print(\"Adding\", df_name)\n",
        "  if df_latin_america is None:\n",
        "    df_latin_america = df.copy()\n",
        "  else:\n",
        "    df_latin_america = df_latin_america.join(df)\n",
        "\n",
        "df_latin_america.to_csv(\"Data/Tratados/LATIN_AMERICA.csv\", index = False)\n",
        "df_latin_america.head()"
      ],
      "execution_count": 236,
      "outputs": [
        {
          "output_type": "stream",
          "text": [
            "Adding population\n",
            "Adding hdi\n",
            "Adding sewer_network\n",
            "Adding open_defecation\n",
            "Adding clean_water\n",
            "Adding basic_hygiene\n",
            "Adding disasters\n",
            "Adding hospital_beds\n",
            "Adding immunization\n",
            "Adding physicians\n",
            "Adding minimum_wage\n",
            "Adding currency_value\n",
            "Adding gdp_capta\n"
          ],
          "name": "stdout"
        },
        {
          "output_type": "execute_result",
          "data": {
            "text/html": [
              "<div>\n",
              "<style scoped>\n",
              "    .dataframe tbody tr th:only-of-type {\n",
              "        vertical-align: middle;\n",
              "    }\n",
              "\n",
              "    .dataframe tbody tr th {\n",
              "        vertical-align: top;\n",
              "    }\n",
              "\n",
              "    .dataframe thead th {\n",
              "        text-align: right;\n",
              "    }\n",
              "</style>\n",
              "<table border=\"1\" class=\"dataframe\">\n",
              "  <thead>\n",
              "    <tr style=\"text-align: right;\">\n",
              "      <th></th>\n",
              "      <th>Population</th>\n",
              "      <th>HDI</th>\n",
              "      <th>Urban Sanitation (%)</th>\n",
              "      <th>Rural Sanitation (%)</th>\n",
              "      <th>Total Sanitation (%)</th>\n",
              "      <th>Urban Open Defecation (%)</th>\n",
              "      <th>Rural Open Defecation (%)</th>\n",
              "      <th>Total Open Defecation (%)</th>\n",
              "      <th>Urban Clean Water (%)</th>\n",
              "      <th>Rural Clean Water (%)</th>\n",
              "      <th>Total Clean Water (%)</th>\n",
              "      <th>Urban Basic Hygiene (%)</th>\n",
              "      <th>Rural Basic Hygiene (%)</th>\n",
              "      <th>Total Basic Hygiene (%)</th>\n",
              "      <th>Total Affected</th>\n",
              "      <th>Hospital Beds</th>\n",
              "      <th>BCG</th>\n",
              "      <th>HepB3</th>\n",
              "      <th>IPV1</th>\n",
              "      <th>Hib3</th>\n",
              "      <th>RCV1</th>\n",
              "      <th>Rota1</th>\n",
              "      <th>DTP</th>\n",
              "      <th>PCV</th>\n",
              "      <th>MCV</th>\n",
              "      <th>Mean Coverage Percentage</th>\n",
              "      <th>Physicians per 10,000</th>\n",
              "      <th>Minimum Wage (USD)</th>\n",
              "      <th>Currency Value (USD)</th>\n",
              "      <th>GDP (USD)</th>\n",
              "    </tr>\n",
              "    <tr>\n",
              "      <th>Country Code</th>\n",
              "      <th></th>\n",
              "      <th></th>\n",
              "      <th></th>\n",
              "      <th></th>\n",
              "      <th></th>\n",
              "      <th></th>\n",
              "      <th></th>\n",
              "      <th></th>\n",
              "      <th></th>\n",
              "      <th></th>\n",
              "      <th></th>\n",
              "      <th></th>\n",
              "      <th></th>\n",
              "      <th></th>\n",
              "      <th></th>\n",
              "      <th></th>\n",
              "      <th></th>\n",
              "      <th></th>\n",
              "      <th></th>\n",
              "      <th></th>\n",
              "      <th></th>\n",
              "      <th></th>\n",
              "      <th></th>\n",
              "      <th></th>\n",
              "      <th></th>\n",
              "      <th></th>\n",
              "      <th></th>\n",
              "      <th></th>\n",
              "      <th></th>\n",
              "      <th></th>\n",
              "    </tr>\n",
              "  </thead>\n",
              "  <tbody>\n",
              "    <tr>\n",
              "      <th>ARG</th>\n",
              "      <td>4.011689e+07</td>\n",
              "      <td>48.0</td>\n",
              "      <td>96.0</td>\n",
              "      <td>NaN</td>\n",
              "      <td>NaN</td>\n",
              "      <td>2.0</td>\n",
              "      <td>2.0</td>\n",
              "      <td>2.0</td>\n",
              "      <td>100.0</td>\n",
              "      <td>100.0</td>\n",
              "      <td>100.0</td>\n",
              "      <td>NaN</td>\n",
              "      <td>NaN</td>\n",
              "      <td>NaN</td>\n",
              "      <td>37652.0</td>\n",
              "      <td>5.0</td>\n",
              "      <td>93.0</td>\n",
              "      <td>86.0</td>\n",
              "      <td>90.0</td>\n",
              "      <td>86.0</td>\n",
              "      <td>94.0</td>\n",
              "      <td>88.0</td>\n",
              "      <td>91.0</td>\n",
              "      <td>92.0</td>\n",
              "      <td>99.0</td>\n",
              "      <td>91.000000</td>\n",
              "      <td>39.90</td>\n",
              "      <td>454.8</td>\n",
              "      <td>0.014600</td>\n",
              "      <td>10043.508552</td>\n",
              "    </tr>\n",
              "    <tr>\n",
              "      <th>BOL</th>\n",
              "      <td>9.684295e+06</td>\n",
              "      <td>NaN</td>\n",
              "      <td>72.0</td>\n",
              "      <td>36.0</td>\n",
              "      <td>61.0</td>\n",
              "      <td>2.0</td>\n",
              "      <td>2.0</td>\n",
              "      <td>2.0</td>\n",
              "      <td>99.0</td>\n",
              "      <td>99.0</td>\n",
              "      <td>99.0</td>\n",
              "      <td>28.0</td>\n",
              "      <td>28.0</td>\n",
              "      <td>28.0</td>\n",
              "      <td>3021.0</td>\n",
              "      <td>1.1</td>\n",
              "      <td>90.0</td>\n",
              "      <td>83.0</td>\n",
              "      <td>89.0</td>\n",
              "      <td>83.0</td>\n",
              "      <td>89.0</td>\n",
              "      <td>88.0</td>\n",
              "      <td>89.0</td>\n",
              "      <td>87.0</td>\n",
              "      <td>89.0</td>\n",
              "      <td>87.444444</td>\n",
              "      <td>15.90</td>\n",
              "      <td>291.6</td>\n",
              "      <td>0.144800</td>\n",
              "      <td>2559.511317</td>\n",
              "    </tr>\n",
              "    <tr>\n",
              "      <th>BRA</th>\n",
              "      <td>1.907474e+08</td>\n",
              "      <td>79.0</td>\n",
              "      <td>93.0</td>\n",
              "      <td>60.0</td>\n",
              "      <td>88.0</td>\n",
              "      <td>0.0</td>\n",
              "      <td>0.0</td>\n",
              "      <td>0.0</td>\n",
              "      <td>100.0</td>\n",
              "      <td>100.0</td>\n",
              "      <td>100.0</td>\n",
              "      <td>NaN</td>\n",
              "      <td>NaN</td>\n",
              "      <td>NaN</td>\n",
              "      <td>30143.0</td>\n",
              "      <td>2.2</td>\n",
              "      <td>98.0</td>\n",
              "      <td>93.0</td>\n",
              "      <td>88.0</td>\n",
              "      <td>83.0</td>\n",
              "      <td>92.0</td>\n",
              "      <td>90.0</td>\n",
              "      <td>87.0</td>\n",
              "      <td>87.0</td>\n",
              "      <td>92.0</td>\n",
              "      <td>90.000000</td>\n",
              "      <td>21.64</td>\n",
              "      <td>257.2</td>\n",
              "      <td>0.187400</td>\n",
              "      <td>11079.709675</td>\n",
              "    </tr>\n",
              "    <tr>\n",
              "      <th>CHL</th>\n",
              "      <td>1.709418e+07</td>\n",
              "      <td>42.0</td>\n",
              "      <td>100.0</td>\n",
              "      <td>100.0</td>\n",
              "      <td>100.0</td>\n",
              "      <td>0.0</td>\n",
              "      <td>0.0</td>\n",
              "      <td>0.0</td>\n",
              "      <td>100.0</td>\n",
              "      <td>100.0</td>\n",
              "      <td>100.0</td>\n",
              "      <td>NaN</td>\n",
              "      <td>NaN</td>\n",
              "      <td>NaN</td>\n",
              "      <td>1549.0</td>\n",
              "      <td>2.2</td>\n",
              "      <td>96.0</td>\n",
              "      <td>95.0</td>\n",
              "      <td>98.0</td>\n",
              "      <td>95.0</td>\n",
              "      <td>93.0</td>\n",
              "      <td>NaN</td>\n",
              "      <td>99.0</td>\n",
              "      <td>98.0</td>\n",
              "      <td>93.0</td>\n",
              "      <td>95.875000</td>\n",
              "      <td>25.91</td>\n",
              "      <td>429.6</td>\n",
              "      <td>0.001251</td>\n",
              "      <td>15130.154322</td>\n",
              "    </tr>\n",
              "    <tr>\n",
              "      <th>COL</th>\n",
              "      <td>4.836490e+07</td>\n",
              "      <td>79.0</td>\n",
              "      <td>93.0</td>\n",
              "      <td>76.0</td>\n",
              "      <td>90.0</td>\n",
              "      <td>1.0</td>\n",
              "      <td>1.0</td>\n",
              "      <td>1.0</td>\n",
              "      <td>100.0</td>\n",
              "      <td>100.0</td>\n",
              "      <td>100.0</td>\n",
              "      <td>73.0</td>\n",
              "      <td>73.0</td>\n",
              "      <td>73.0</td>\n",
              "      <td>79648.0</td>\n",
              "      <td>1.5</td>\n",
              "      <td>89.0</td>\n",
              "      <td>92.0</td>\n",
              "      <td>93.0</td>\n",
              "      <td>92.0</td>\n",
              "      <td>95.0</td>\n",
              "      <td>89.0</td>\n",
              "      <td>92.0</td>\n",
              "      <td>94.0</td>\n",
              "      <td>95.0</td>\n",
              "      <td>92.333333</td>\n",
              "      <td>21.85</td>\n",
              "      <td>252.9</td>\n",
              "      <td>0.000268</td>\n",
              "      <td>7691.745564</td>\n",
              "    </tr>\n",
              "  </tbody>\n",
              "</table>\n",
              "</div>"
            ],
            "text/plain": [
              "                Population   HDI  ...  Currency Value (USD)     GDP (USD)\n",
              "Country Code                      ...                                    \n",
              "ARG           4.011689e+07  48.0  ...              0.014600  10043.508552\n",
              "BOL           9.684295e+06   NaN  ...              0.144800   2559.511317\n",
              "BRA           1.907474e+08  79.0  ...              0.187400  11079.709675\n",
              "CHL           1.709418e+07  42.0  ...              0.001251  15130.154322\n",
              "COL           4.836490e+07  79.0  ...              0.000268   7691.745564\n",
              "\n",
              "[5 rows x 30 columns]"
            ]
          },
          "metadata": {
            "tags": []
          },
          "execution_count": 236
        }
      ]
    },
    {
      "cell_type": "markdown",
      "metadata": {
        "id": "PSpJlkJf8UEj",
        "colab_type": "text"
      },
      "source": [
        "## Factor Analysis.\n",
        "\n",
        "<img src=\"https://github.com/otavio-r-filho/nasa_space_apps/blob/master/reports/figures/poverty_dimensions.jpeg?raw=1\" width=40%/>\n",
        "\n",
        "Importante considerations:\n",
        "1. There are no outliers in data.\n",
        "2. Sample size should be greater than the factor.\n",
        "3. There should not be perfect multicollinearity.\n",
        "4. There should not be homoscedasticity between the variables."
      ]
    }
  ]
}