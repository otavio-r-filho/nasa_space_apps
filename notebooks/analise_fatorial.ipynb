{
 "cells": [
  {
   "cell_type": "markdown",
   "metadata": {
    "colab_type": "text",
    "id": "view-in-github"
   },
   "source": [
    "<a href=\"https://colab.research.google.com/github/otavio-r-filho/nasa_space_apps/blob/master/notebooks/analise_fatorial.ipynb\" target=\"_parent\"><img src=\"https://colab.research.google.com/assets/colab-badge.svg\" alt=\"Open In Colab\"/></a>"
   ]
  },
  {
   "cell_type": "code",
   "execution_count": 1,
   "metadata": {},
   "outputs": [
    {
     "ename": "ModuleNotFoundError",
     "evalue": "No module named 'google'",
     "output_type": "error",
     "traceback": [
      "\u001b[1;31m---------------------------------------------------------------------------\u001b[0m",
      "\u001b[1;31mModuleNotFoundError\u001b[0m                       Traceback (most recent call last)",
      "\u001b[1;32m<ipython-input-1-f045e1081d89>\u001b[0m in \u001b[0;36m<module>\u001b[1;34m\u001b[0m\n\u001b[1;32m----> 1\u001b[1;33m \u001b[1;32mfrom\u001b[0m \u001b[0mgoogle\u001b[0m\u001b[1;33m.\u001b[0m\u001b[0mcolab\u001b[0m \u001b[1;32mimport\u001b[0m \u001b[0mdrive\u001b[0m\u001b[1;33m\u001b[0m\u001b[0m\n\u001b[0m",
      "\u001b[1;31mModuleNotFoundError\u001b[0m: No module named 'google'"
     ]
    }
   ],
   "source": [
    "from google.colab import drive"
   ]
  },
  {
   "cell_type": "code",
   "execution_count": null,
   "metadata": {
    "colab": {},
    "colab_type": "code",
    "id": "YKW9CbE2d7d4"
   },
   "outputs": [],
   "source": [
    "from google.colab import drive\n",
    "drive.mount('/gdrive')\n",
    "%cd \"/gdrive/My Drive/Hackatons/NASA Space Apps 2020\""
   ]
  },
  {
   "cell_type": "markdown",
   "metadata": {
    "colab_type": "text",
    "id": "ZbdZzJAPhNlz"
   },
   "source": [
    "# NASA Space Apps 2020: COVID-19 Challenge\n",
    "\n",
    "##Factor Analysis.\n",
    "\n",
    "Importante considerations:\n",
    "1. There are no outliers in data.\n",
    "2. Sample size should be greater than the factor.\n",
    "3. There should not be perfect multicollinearity.\n",
    "4. There should not be homoscedasticity between the variables."
   ]
  },
  {
   "cell_type": "code",
   "execution_count": null,
   "metadata": {
    "colab": {},
    "colab_type": "code",
    "id": "cZW17_dratxh"
   },
   "outputs": [],
   "source": [
    "import os\n",
    "import pandas as pd\n",
    "import numpy as np\n",
    "import seaborn as sns\n",
    "import matplotlib.pyplot as plt\n",
    "from glob import glob\n",
    "%matplotlib inline"
   ]
  },
  {
   "cell_type": "markdown",
   "metadata": {
    "colab_type": "text",
    "id": "Ev1CgRyiifGv"
   },
   "source": [
    "### Listagem de dados tratados"
   ]
  },
  {
   "cell_type": "code",
   "execution_count": null,
   "metadata": {
    "colab": {
     "base_uri": "https://localhost:8080/",
     "height": 238
    },
    "colab_type": "code",
    "id": "H7uuh-C7eOmG",
    "outputId": "de0d4869-8f83-4a3c-cf71-2e0039d87512"
   },
   "outputs": [
    {
     "name": "stdout",
     "output_type": "stream",
     "text": [
      "                      Populacao.csv: Data/Tratados/Populacao.csv\n",
      "                            IDH.csv: Data/Tratados/IDH.csv\n",
      "                   BasicHygiene.csv: Data/Tratados/BasicHygiene.csv\n",
      "                   RedeDeEsgoto.csv: Data/Tratados/RedeDeEsgoto.csv\n",
      "                    AguaTratada.csv: Data/Tratados/AguaTratada.csv\n",
      "                 OpenDefecation.csv: Data/Tratados/OpenDefecation.csv\n",
      "                      Desastres.csv: Data/Tratados/Desastres.csv\n",
      "REAL_GDP_PER_CAPITA_CONSTANT_US$.csv: Data/Tratados/REAL_GDP_PER_CAPITA_CONSTANT_US$.csv\n",
      "                  SalarioMinimo.csv: Data/Tratados/SalarioMinimo.csv\n",
      "                        Medicos.csv: Data/Tratados/Medicos.csv\n",
      "                   HospitalBeds.csv: Data/Tratados/HospitalBeds.csv\n",
      "                    Local_x_USD.csv: Data/Tratados/Local_x_USD.csv\n",
      "                   Immunization.csv: Data/Tratados/Immunization.csv\n"
     ]
    }
   ],
   "source": [
    "dados_tratados = glob(\"Data/Tratados/*.csv\")\n",
    "fnames = list(map(os.path.basename, dados_tratados))\n",
    "wlength = np.max(list(map(len,fnames)))\n",
    "dados_tratados = dict(zip(fnames, dados_tratados))\n",
    "for k,v in dados_tratados.items():\n",
    "  print((k+\":\").rjust(wlength), v)"
   ]
  },
  {
   "cell_type": "code",
   "execution_count": null,
   "metadata": {
    "colab": {
     "base_uri": "https://localhost:8080/",
     "height": 221
    },
    "colab_type": "code",
    "id": "xXbvYiCJjNZf",
    "outputId": "67f0c6ea-03b0-49d7-8625-49bbf852c0f8"
   },
   "outputs": [
    {
     "name": "stdout",
     "output_type": "stream",
     "text": [
      "[2010]\n"
     ]
    },
    {
     "data": {
      "text/html": [
       "<div>\n",
       "<style scoped>\n",
       "    .dataframe tbody tr th:only-of-type {\n",
       "        vertical-align: middle;\n",
       "    }\n",
       "\n",
       "    .dataframe tbody tr th {\n",
       "        vertical-align: top;\n",
       "    }\n",
       "\n",
       "    .dataframe thead th {\n",
       "        text-align: right;\n",
       "    }\n",
       "</style>\n",
       "<table border=\"1\" class=\"dataframe\">\n",
       "  <thead>\n",
       "    <tr style=\"text-align: right;\">\n",
       "      <th></th>\n",
       "      <th>País</th>\n",
       "      <th>População</th>\n",
       "      <th>Ano</th>\n",
       "    </tr>\n",
       "  </thead>\n",
       "  <tbody>\n",
       "    <tr>\n",
       "      <th>0</th>\n",
       "      <td>ARGENTINA</td>\n",
       "      <td>4.011689e+07</td>\n",
       "      <td>2010</td>\n",
       "    </tr>\n",
       "    <tr>\n",
       "      <th>1</th>\n",
       "      <td>BOLIVIA</td>\n",
       "      <td>9.684295e+06</td>\n",
       "      <td>2010</td>\n",
       "    </tr>\n",
       "    <tr>\n",
       "      <th>2</th>\n",
       "      <td>BRASIL</td>\n",
       "      <td>1.907474e+08</td>\n",
       "      <td>2010</td>\n",
       "    </tr>\n",
       "    <tr>\n",
       "      <th>3</th>\n",
       "      <td>CHILE</td>\n",
       "      <td>1.709418e+07</td>\n",
       "      <td>2010</td>\n",
       "    </tr>\n",
       "    <tr>\n",
       "      <th>4</th>\n",
       "      <td>COLOMBIA</td>\n",
       "      <td>4.836490e+07</td>\n",
       "      <td>2010</td>\n",
       "    </tr>\n",
       "  </tbody>\n",
       "</table>\n",
       "</div>"
      ],
      "text/plain": [
       "        País     População   Ano\n",
       "0  ARGENTINA  4.011689e+07  2010\n",
       "1    BOLIVIA  9.684295e+06  2010\n",
       "2     BRASIL  1.907474e+08  2010\n",
       "3      CHILE  1.709418e+07  2010\n",
       "4   COLOMBIA  4.836490e+07  2010"
      ]
     },
     "execution_count": 28,
     "metadata": {
      "tags": []
     },
     "output_type": "execute_result"
    }
   ],
   "source": [
    "df_populacao = pd.read_csv(dados_tratados[\"Populacao.csv\"], index_col=0)\n",
    "df_populacao.sort_values([\"Ano\", \"País\"], ignore_index=True, inplace=True)\n",
    "print(df_populacao[\"Ano\"].unique())\n",
    "df_populacao.head()"
   ]
  },
  {
   "cell_type": "code",
   "execution_count": null,
   "metadata": {
    "colab": {
     "base_uri": "https://localhost:8080/",
     "height": 221
    },
    "colab_type": "code",
    "id": "v2OiAv60sYwO",
    "outputId": "51a5da22-9eb4-4b8f-e702-759a2ee89c8d"
   },
   "outputs": [
    {
     "name": "stdout",
     "output_type": "stream",
     "text": [
      "[2013 2014 2015]\n"
     ]
    },
    {
     "data": {
      "text/html": [
       "<div>\n",
       "<style scoped>\n",
       "    .dataframe tbody tr th:only-of-type {\n",
       "        vertical-align: middle;\n",
       "    }\n",
       "\n",
       "    .dataframe tbody tr th {\n",
       "        vertical-align: top;\n",
       "    }\n",
       "\n",
       "    .dataframe thead th {\n",
       "        text-align: right;\n",
       "    }\n",
       "</style>\n",
       "<table border=\"1\" class=\"dataframe\">\n",
       "  <thead>\n",
       "    <tr style=\"text-align: right;\">\n",
       "      <th></th>\n",
       "      <th>country</th>\n",
       "      <th>year</th>\n",
       "      <th>hospital_beds</th>\n",
       "    </tr>\n",
       "  </thead>\n",
       "  <tbody>\n",
       "    <tr>\n",
       "      <th>0</th>\n",
       "      <td>Chile</td>\n",
       "      <td>2013</td>\n",
       "      <td>2.2</td>\n",
       "    </tr>\n",
       "    <tr>\n",
       "      <th>1</th>\n",
       "      <td>Ecuador</td>\n",
       "      <td>2013</td>\n",
       "      <td>1.5</td>\n",
       "    </tr>\n",
       "    <tr>\n",
       "      <th>2</th>\n",
       "      <td>Argentina</td>\n",
       "      <td>2014</td>\n",
       "      <td>5.0</td>\n",
       "    </tr>\n",
       "    <tr>\n",
       "      <th>3</th>\n",
       "      <td>Bolivia</td>\n",
       "      <td>2014</td>\n",
       "      <td>1.1</td>\n",
       "    </tr>\n",
       "    <tr>\n",
       "      <th>4</th>\n",
       "      <td>Brazil</td>\n",
       "      <td>2014</td>\n",
       "      <td>2.2</td>\n",
       "    </tr>\n",
       "  </tbody>\n",
       "</table>\n",
       "</div>"
      ],
      "text/plain": [
       "     country  year  hospital_beds\n",
       "0      Chile  2013            2.2\n",
       "1    Ecuador  2013            1.5\n",
       "2  Argentina  2014            5.0\n",
       "3    Bolivia  2014            1.1\n",
       "4     Brazil  2014            2.2"
      ]
     },
     "execution_count": 27,
     "metadata": {
      "tags": []
     },
     "output_type": "execute_result"
    }
   ],
   "source": [
    "df_hospital_beds = pd.read_csv(dados_tratados[\"HospitalBeds.csv\"], index_col = 0)\n",
    "df_hospital_beds.sort_values([\"year\", \"country\"], ignore_index=True, inplace=True)\n",
    "print(np.sort(df_hospital_beds[\"year\"].unique()))\n",
    "df_hospital_beds.head()"
   ]
  },
  {
   "cell_type": "code",
   "execution_count": null,
   "metadata": {
    "colab": {
     "base_uri": "https://localhost:8080/",
     "height": 272
    },
    "colab_type": "code",
    "id": "k60IRSF_tlGy",
    "outputId": "0c19305e-fbd7-4310-c19d-4b24f53b3c11"
   },
   "outputs": [
    {
     "name": "stdout",
     "output_type": "stream",
     "text": [
      "['Venezuela (Bolivarian Republic of)' 'Bolivia (Plurinational State of)'\n",
      " 'Ecuador' 'El Salvador' 'Peru' 'Argentina' 'Mexico' 'Brazil' 'Chile'\n",
      " 'Colombia']\n",
      "[2001 2016 2017 2018]\n"
     ]
    },
    {
     "data": {
      "text/html": [
       "<div>\n",
       "<style scoped>\n",
       "    .dataframe tbody tr th:only-of-type {\n",
       "        vertical-align: middle;\n",
       "    }\n",
       "\n",
       "    .dataframe tbody tr th {\n",
       "        vertical-align: top;\n",
       "    }\n",
       "\n",
       "    .dataframe thead th {\n",
       "        text-align: right;\n",
       "    }\n",
       "</style>\n",
       "<table border=\"1\" class=\"dataframe\">\n",
       "  <thead>\n",
       "    <tr style=\"text-align: right;\">\n",
       "      <th></th>\n",
       "      <th>Location</th>\n",
       "      <th>Period</th>\n",
       "      <th>Indicator</th>\n",
       "      <th>First Tooltip</th>\n",
       "    </tr>\n",
       "  </thead>\n",
       "  <tbody>\n",
       "    <tr>\n",
       "      <th>0</th>\n",
       "      <td>Venezuela (Bolivarian Republic of)</td>\n",
       "      <td>2001</td>\n",
       "      <td>Medical doctors (per 10,000)</td>\n",
       "      <td>19.48</td>\n",
       "    </tr>\n",
       "    <tr>\n",
       "      <th>1</th>\n",
       "      <td>Bolivia (Plurinational State of)</td>\n",
       "      <td>2016</td>\n",
       "      <td>Medical doctors (per 10,000)</td>\n",
       "      <td>15.90</td>\n",
       "    </tr>\n",
       "    <tr>\n",
       "      <th>2</th>\n",
       "      <td>Ecuador</td>\n",
       "      <td>2016</td>\n",
       "      <td>Medical doctors (per 10,000)</td>\n",
       "      <td>20.37</td>\n",
       "    </tr>\n",
       "    <tr>\n",
       "      <th>3</th>\n",
       "      <td>El Salvador</td>\n",
       "      <td>2016</td>\n",
       "      <td>Medical doctors (per 10,000)</td>\n",
       "      <td>15.66</td>\n",
       "    </tr>\n",
       "    <tr>\n",
       "      <th>4</th>\n",
       "      <td>Peru</td>\n",
       "      <td>2016</td>\n",
       "      <td>Medical doctors (per 10,000)</td>\n",
       "      <td>13.05</td>\n",
       "    </tr>\n",
       "  </tbody>\n",
       "</table>\n",
       "</div>"
      ],
      "text/plain": [
       "                             Location  ...  First Tooltip\n",
       "0  Venezuela (Bolivarian Republic of)  ...          19.48\n",
       "1    Bolivia (Plurinational State of)  ...          15.90\n",
       "2                             Ecuador  ...          20.37\n",
       "3                         El Salvador  ...          15.66\n",
       "4                                Peru  ...          13.05\n",
       "\n",
       "[5 rows x 4 columns]"
      ]
     },
     "execution_count": 33,
     "metadata": {
      "tags": []
     },
     "output_type": "execute_result"
    }
   ],
   "source": [
    "df_medicos = pd.read_csv(dados_tratados[\"Medicos.csv\"], index_col = 0)\n",
    "df_medicos.sort_values([\"Period\", \"Location\"], ignore_index=True, inplace=True)\n",
    "print(df_medicos[\"Location\"].unique())\n",
    "print(df_medicos[\"Period\"].unique())\n",
    "df_medicos.head()"
   ]
  }
 ],
 "metadata": {
  "colab": {
   "authorship_tag": "ABX9TyO8/Z0dPIKOTYpMWhwhXfzs",
   "collapsed_sections": [],
   "include_colab_link": true,
   "name": "analise_fatorial.ipynb",
   "provenance": []
  },
  "kernelspec": {
   "display_name": "Python 3",
   "language": "python",
   "name": "python3"
  },
  "language_info": {
   "codemirror_mode": {
    "name": "ipython",
    "version": 3
   },
   "file_extension": ".py",
   "mimetype": "text/x-python",
   "name": "python",
   "nbconvert_exporter": "python",
   "pygments_lexer": "ipython3",
   "version": "3.6.5"
  }
 },
 "nbformat": 4,
 "nbformat_minor": 4
}
